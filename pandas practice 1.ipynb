{
 "cells": [
  {
   "cell_type": "markdown",
   "id": "f9efad05",
   "metadata": {},
   "source": [
    "# Practice Problem...."
   ]
  },
  {
   "cell_type": "markdown",
   "id": "dbf0b4d9",
   "metadata": {},
   "source": [
    "# Practice Problem: Employee Performance Analysis\n",
    "Task:\n",
    "Simulate an employee dataset using NumPy, then analyze it using Pandas.\n",
    "\n",
    "# Dataset to Create:\n",
    "\n",
    "| Column Name     | Description                                   |\n",
    "| --------------- | --------------------------------------------- |\n",
    "| `Employee_ID`   | Random 4-digit IDs                            |\n",
    "| `Name`          | Employee Names                                |\n",
    "| `Age`           | Random ages between 25 to 50                  |\n",
    "| `Department`    | Random from \\['HR', 'IT', 'Finance', 'Sales'] |\n",
    "| `Monthly_Sales` | Random sales between 1000 to 10000            |\n",
    "| `Rating`        | Random ratings between 1 to 5                 |\n"
   ]
  },
  {
   "cell_type": "markdown",
   "id": "c2d13814",
   "metadata": {},
   "source": [
    "# Step 1: Create Dataset\n",
    "Use NumPy to generate random data, and then convert it into a Pandas DataFrame."
   ]
  },
  {
   "cell_type": "code",
   "execution_count": 3,
   "id": "f0fd01bd",
   "metadata": {},
   "outputs": [],
   "source": [
    "# import libraries.\n",
    "\n",
    "import pandas as pd\n",
    "import numpy as np\n",
    "import matplotlib.pyplot as plt\n",
    "import seaborn as sns\n",
    "%matplotlib inline\n",
    "import warnings\n",
    "warnings.filterwarnings('ignore')\n"
   ]
  },
  {
   "cell_type": "code",
   "execution_count": 4,
   "id": "372bcd7c",
   "metadata": {},
   "outputs": [],
   "source": [
    "np.random.seed(42) # Fixes the random numbers to be repeatable\n",
    "num_employees = 20 # total number of row is 20\n",
    "\n",
    "# creating random 4-digit employee_id\n",
    "employee_id = np.random.randint(1000,9999,size=num_employees)\n",
    "\n",
    "# 20 names.\n",
    "names = [\"Ali\", \"Sara\", \"John\", \"Ayesha\", \"Zain\", \"Noor\", \"Usman\", \"Fatima\", \"Bilal\", \"Hina\",\n",
    "          \"Hamza\", \"Iqra\", \"Asad\", \"Sana\", \"Omer\", \"Amna\", \"Tariq\", \"Rabia\", \"Faizan\", \"Maha\"]\n",
    "\n",
    "# creating age randomly btw 25 to 50\n",
    "age = np.random.randint(25,51,size=num_employees)\n",
    "\n",
    "# randomly choosing department from ['HR','IT','Finance','Sales'] for 20 employees.\n",
    "department= np.random.choice(['HR','IT','Finance','Sales'],size=num_employees)\n",
    "\n",
    "# random sales for employees btw 1000 to 10000.\n",
    "monthly_sales = np.random.randint(1000,10000,size= num_employees)\n",
    "\n",
    "# random rating btw 1 to 6\n",
    "rating = np.random.randint(1,6,size = num_employees)\n"
   ]
  },
  {
   "cell_type": "code",
   "execution_count": 5,
   "id": "cf06386d",
   "metadata": {},
   "outputs": [],
   "source": [
    "dataframe = {\n",
    "    'Employee_ID' : employee_id,\n",
    "    'Name' : names,\n",
    "    'Age' : age,\n",
    "    'Department' : department,\n",
    "    'Sales' : monthly_sales,\n",
    "    'Rating' : rating\n",
    "}"
   ]
  },
  {
   "cell_type": "code",
   "execution_count": 6,
   "id": "12b22546",
   "metadata": {},
   "outputs": [],
   "source": [
    "df = pd.DataFrame(dataframe)"
   ]
  },
  {
   "cell_type": "markdown",
   "id": "5032eb41",
   "metadata": {},
   "source": [
    "# Step 2: Perform the Following Operations\n",
    "....Basic Pandas Tasks: .....\n",
    "\n",
    "Show first 5 rows\n",
    "\n",
    "Find average Monthly Sales\n",
    "\n",
    "Group data by Department and calculate average Rating\n",
    "\n",
    "Filter employees with Rating >= 4 and Sales > 5000\n",
    "\n"
   ]
  },
  {
   "cell_type": "code",
   "execution_count": 7,
   "id": "924aebcd",
   "metadata": {},
   "outputs": [
    {
     "data": {
      "text/html": [
       "<div>\n",
       "<style scoped>\n",
       "    .dataframe tbody tr th:only-of-type {\n",
       "        vertical-align: middle;\n",
       "    }\n",
       "\n",
       "    .dataframe tbody tr th {\n",
       "        vertical-align: top;\n",
       "    }\n",
       "\n",
       "    .dataframe thead th {\n",
       "        text-align: right;\n",
       "    }\n",
       "</style>\n",
       "<table border=\"1\" class=\"dataframe\">\n",
       "  <thead>\n",
       "    <tr style=\"text-align: right;\">\n",
       "      <th></th>\n",
       "      <th>Employee_ID</th>\n",
       "      <th>Name</th>\n",
       "      <th>Age</th>\n",
       "      <th>Department</th>\n",
       "      <th>Sales</th>\n",
       "      <th>Rating</th>\n",
       "    </tr>\n",
       "  </thead>\n",
       "  <tbody>\n",
       "    <tr>\n",
       "      <th>0</th>\n",
       "      <td>8270</td>\n",
       "      <td>Ali</td>\n",
       "      <td>46</td>\n",
       "      <td>IT</td>\n",
       "      <td>9226</td>\n",
       "      <td>5</td>\n",
       "    </tr>\n",
       "    <tr>\n",
       "      <th>1</th>\n",
       "      <td>1860</td>\n",
       "      <td>Sara</td>\n",
       "      <td>36</td>\n",
       "      <td>Sales</td>\n",
       "      <td>4152</td>\n",
       "      <td>2</td>\n",
       "    </tr>\n",
       "    <tr>\n",
       "      <th>2</th>\n",
       "      <td>6390</td>\n",
       "      <td>John</td>\n",
       "      <td>49</td>\n",
       "      <td>HR</td>\n",
       "      <td>2585</td>\n",
       "      <td>5</td>\n",
       "    </tr>\n",
       "    <tr>\n",
       "      <th>3</th>\n",
       "      <td>6191</td>\n",
       "      <td>Ayesha</td>\n",
       "      <td>41</td>\n",
       "      <td>Sales</td>\n",
       "      <td>4943</td>\n",
       "      <td>2</td>\n",
       "    </tr>\n",
       "    <tr>\n",
       "      <th>4</th>\n",
       "      <td>6734</td>\n",
       "      <td>Zain</td>\n",
       "      <td>34</td>\n",
       "      <td>IT</td>\n",
       "      <td>8555</td>\n",
       "      <td>1</td>\n",
       "    </tr>\n",
       "  </tbody>\n",
       "</table>\n",
       "</div>"
      ],
      "text/plain": [
       "   Employee_ID    Name  Age Department  Sales  Rating\n",
       "0         8270     Ali   46         IT   9226       5\n",
       "1         1860    Sara   36      Sales   4152       2\n",
       "2         6390    John   49         HR   2585       5\n",
       "3         6191  Ayesha   41      Sales   4943       2\n",
       "4         6734    Zain   34         IT   8555       1"
      ]
     },
     "execution_count": 7,
     "metadata": {},
     "output_type": "execute_result"
    }
   ],
   "source": [
    "# showing first five rows.\n",
    "df.head()"
   ]
  },
  {
   "cell_type": "code",
   "execution_count": 8,
   "id": "96d7f629",
   "metadata": {},
   "outputs": [
    {
     "name": "stdout",
     "output_type": "stream",
     "text": [
      "Average Monthly Sales:5804.8\n"
     ]
    }
   ],
   "source": [
    "# Finding Average Monthly Sales.\n",
    "avg_mon_sale = df['Sales'].mean()\n",
    "print(f'Average Monthly Sales:{avg_mon_sale}')"
   ]
  },
  {
   "cell_type": "code",
   "execution_count": 9,
   "id": "ea86ad76",
   "metadata": {},
   "outputs": [],
   "source": [
    "# graoup data by department and calculate average rating.\n",
    "\n",
    "grp = df.groupby('Department')['Rating'].mean()"
   ]
  },
  {
   "cell_type": "code",
   "execution_count": 10,
   "id": "3e6addb7",
   "metadata": {},
   "outputs": [
    {
     "data": {
      "text/plain": [
       "Department\n",
       "Finance    1.000000\n",
       "HR         3.250000\n",
       "IT         4.000000\n",
       "Sales      2.571429\n",
       "Name: Rating, dtype: float64"
      ]
     },
     "execution_count": 10,
     "metadata": {},
     "output_type": "execute_result"
    }
   ],
   "source": [
    "grp"
   ]
  },
  {
   "cell_type": "code",
   "execution_count": 11,
   "id": "a255ac78",
   "metadata": {},
   "outputs": [
    {
     "data": {
      "image/png": "[encoded data removed]",
      "text/plain": [
       "<Figure size 1000x700 with 1 Axes>"
      ]
     },
     "metadata": {},
     "output_type": "display_data"
    }
   ],
   "source": [
    "plt.figure(figsize=(10,7))\n",
    "sns.barplot(grp,palette='coolwarm')\n",
    "plt.show()"
   ]
  },
  {
   "cell_type": "code",
   "execution_count": 12,
   "id": "c07c5453",
   "metadata": {},
   "outputs": [
    {
     "data": {
      "text/html": [
       "<div>\n",
       "<style scoped>\n",
       "    .dataframe tbody tr th:only-of-type {\n",
       "        vertical-align: middle;\n",
       "    }\n",
       "\n",
       "    .dataframe tbody tr th {\n",
       "        vertical-align: top;\n",
       "    }\n",
       "\n",
       "    .dataframe thead th {\n",
       "        text-align: right;\n",
       "    }\n",
       "</style>\n",
       "<table border=\"1\" class=\"dataframe\">\n",
       "  <thead>\n",
       "    <tr style=\"text-align: right;\">\n",
       "      <th></th>\n",
       "      <th>Employee_ID</th>\n",
       "      <th>Name</th>\n",
       "      <th>Age</th>\n",
       "      <th>Department</th>\n",
       "      <th>Sales</th>\n",
       "      <th>Rating</th>\n",
       "    </tr>\n",
       "  </thead>\n",
       "  <tbody>\n",
       "    <tr>\n",
       "      <th>0</th>\n",
       "      <td>8270</td>\n",
       "      <td>Ali</td>\n",
       "      <td>46</td>\n",
       "      <td>IT</td>\n",
       "      <td>9226</td>\n",
       "      <td>5</td>\n",
       "    </tr>\n",
       "    <tr>\n",
       "      <th>1</th>\n",
       "      <td>1860</td>\n",
       "      <td>Sara</td>\n",
       "      <td>36</td>\n",
       "      <td>Sales</td>\n",
       "      <td>4152</td>\n",
       "      <td>2</td>\n",
       "    </tr>\n",
       "    <tr>\n",
       "      <th>2</th>\n",
       "      <td>6390</td>\n",
       "      <td>John</td>\n",
       "      <td>49</td>\n",
       "      <td>HR</td>\n",
       "      <td>2585</td>\n",
       "      <td>5</td>\n",
       "    </tr>\n",
       "    <tr>\n",
       "      <th>3</th>\n",
       "      <td>6191</td>\n",
       "      <td>Ayesha</td>\n",
       "      <td>41</td>\n",
       "      <td>Sales</td>\n",
       "      <td>4943</td>\n",
       "      <td>2</td>\n",
       "    </tr>\n",
       "    <tr>\n",
       "      <th>4</th>\n",
       "      <td>6734</td>\n",
       "      <td>Zain</td>\n",
       "      <td>34</td>\n",
       "      <td>IT</td>\n",
       "      <td>8555</td>\n",
       "      <td>1</td>\n",
       "    </tr>\n",
       "  </tbody>\n",
       "</table>\n",
       "</div>"
      ],
      "text/plain": [
       "   Employee_ID    Name  Age Department  Sales  Rating\n",
       "0         8270     Ali   46         IT   9226       5\n",
       "1         1860    Sara   36      Sales   4152       2\n",
       "2         6390    John   49         HR   2585       5\n",
       "3         6191  Ayesha   41      Sales   4943       2\n",
       "4         6734    Zain   34         IT   8555       1"
      ]
     },
     "execution_count": 12,
     "metadata": {},
     "output_type": "execute_result"
    }
   ],
   "source": [
    "# Filter employee rating greater then 4 and sales greater then 5000\n",
    "\n",
    "df.head()"
   ]
  },
  {
   "cell_type": "code",
   "execution_count": 13,
   "id": "7ec84c8f",
   "metadata": {},
   "outputs": [],
   "source": [
    "filter_data = df[(df['Rating'] > 4) & (df['Sales'] > 5000)]"
   ]
  },
  {
   "cell_type": "code",
   "execution_count": 14,
   "id": "48a4ee1d",
   "metadata": {},
   "outputs": [
    {
     "data": {
      "text/html": [
       "<div>\n",
       "<style scoped>\n",
       "    .dataframe tbody tr th:only-of-type {\n",
       "        vertical-align: middle;\n",
       "    }\n",
       "\n",
       "    .dataframe tbody tr th {\n",
       "        vertical-align: top;\n",
       "    }\n",
       "\n",
       "    .dataframe thead th {\n",
       "        text-align: right;\n",
       "    }\n",
       "</style>\n",
       "<table border=\"1\" class=\"dataframe\">\n",
       "  <thead>\n",
       "    <tr style=\"text-align: right;\">\n",
       "      <th></th>\n",
       "      <th>Employee_ID</th>\n",
       "      <th>Name</th>\n",
       "      <th>Age</th>\n",
       "      <th>Department</th>\n",
       "      <th>Sales</th>\n",
       "      <th>Rating</th>\n",
       "    </tr>\n",
       "  </thead>\n",
       "  <tbody>\n",
       "    <tr>\n",
       "      <th>0</th>\n",
       "      <td>8270</td>\n",
       "      <td>Ali</td>\n",
       "      <td>46</td>\n",
       "      <td>IT</td>\n",
       "      <td>9226</td>\n",
       "      <td>5</td>\n",
       "    </tr>\n",
       "    <tr>\n",
       "      <th>8</th>\n",
       "      <td>6578</td>\n",
       "      <td>Bilal</td>\n",
       "      <td>43</td>\n",
       "      <td>IT</td>\n",
       "      <td>8989</td>\n",
       "      <td>5</td>\n",
       "    </tr>\n",
       "    <tr>\n",
       "      <th>10</th>\n",
       "      <td>2685</td>\n",
       "      <td>Hamza</td>\n",
       "      <td>47</td>\n",
       "      <td>IT</td>\n",
       "      <td>6675</td>\n",
       "      <td>5</td>\n",
       "    </tr>\n",
       "  </tbody>\n",
       "</table>\n",
       "</div>"
      ],
      "text/plain": [
       "    Employee_ID   Name  Age Department  Sales  Rating\n",
       "0          8270    Ali   46         IT   9226       5\n",
       "8          6578  Bilal   43         IT   8989       5\n",
       "10         2685  Hamza   47         IT   6675       5"
      ]
     },
     "execution_count": 14,
     "metadata": {},
     "output_type": "execute_result"
    }
   ],
   "source": [
    "filter_data"
   ]
  },
  {
   "cell_type": "markdown",
   "id": "1ec259bc",
   "metadata": {},
   "source": [
    "# NumPy + Pandas Tasks:\n",
    "Standardize the Sales column using NumPy:"
   ]
  },
  {
   "cell_type": "code",
   "execution_count": 15,
   "id": "ae37231d",
   "metadata": {},
   "outputs": [],
   "source": [
    "# Calculating Mean\n",
    "sales_mean = df['Sales'].mean()\n",
    "sales_std = df['Sales'].std()\n",
    "\n",
    "df['Standardize_sales'] = (df['Sales']-sales_mean)/sales_std"
   ]
  },
  {
   "cell_type": "code",
   "execution_count": 16,
   "id": "92c021c4",
   "metadata": {},
   "outputs": [
    {
     "data": {
      "text/html": [
       "<div>\n",
       "<style scoped>\n",
       "    .dataframe tbody tr th:only-of-type {\n",
       "        vertical-align: middle;\n",
       "    }\n",
       "\n",
       "    .dataframe tbody tr th {\n",
       "        vertical-align: top;\n",
       "    }\n",
       "\n",
       "    .dataframe thead th {\n",
       "        text-align: right;\n",
       "    }\n",
       "</style>\n",
       "<table border=\"1\" class=\"dataframe\">\n",
       "  <thead>\n",
       "    <tr style=\"text-align: right;\">\n",
       "      <th></th>\n",
       "      <th>Employee_ID</th>\n",
       "      <th>Name</th>\n",
       "      <th>Age</th>\n",
       "      <th>Department</th>\n",
       "      <th>Sales</th>\n",
       "      <th>Rating</th>\n",
       "      <th>Standardize_sales</th>\n",
       "    </tr>\n",
       "  </thead>\n",
       "  <tbody>\n",
       "    <tr>\n",
       "      <th>0</th>\n",
       "      <td>8270</td>\n",
       "      <td>Ali</td>\n",
       "      <td>46</td>\n",
       "      <td>IT</td>\n",
       "      <td>9226</td>\n",
       "      <td>5</td>\n",
       "      <td>1.213494</td>\n",
       "    </tr>\n",
       "    <tr>\n",
       "      <th>1</th>\n",
       "      <td>1860</td>\n",
       "      <td>Sara</td>\n",
       "      <td>36</td>\n",
       "      <td>Sales</td>\n",
       "      <td>4152</td>\n",
       "      <td>2</td>\n",
       "      <td>-0.586245</td>\n",
       "    </tr>\n",
       "    <tr>\n",
       "      <th>2</th>\n",
       "      <td>6390</td>\n",
       "      <td>John</td>\n",
       "      <td>49</td>\n",
       "      <td>HR</td>\n",
       "      <td>2585</td>\n",
       "      <td>5</td>\n",
       "      <td>-1.142058</td>\n",
       "    </tr>\n",
       "    <tr>\n",
       "      <th>3</th>\n",
       "      <td>6191</td>\n",
       "      <td>Ayesha</td>\n",
       "      <td>41</td>\n",
       "      <td>Sales</td>\n",
       "      <td>4943</td>\n",
       "      <td>2</td>\n",
       "      <td>-0.305679</td>\n",
       "    </tr>\n",
       "    <tr>\n",
       "      <th>4</th>\n",
       "      <td>6734</td>\n",
       "      <td>Zain</td>\n",
       "      <td>34</td>\n",
       "      <td>IT</td>\n",
       "      <td>8555</td>\n",
       "      <td>1</td>\n",
       "      <td>0.975491</td>\n",
       "    </tr>\n",
       "  </tbody>\n",
       "</table>\n",
       "</div>"
      ],
      "text/plain": [
       "   Employee_ID    Name  Age Department  Sales  Rating  Standardize_sales\n",
       "0         8270     Ali   46         IT   9226       5           1.213494\n",
       "1         1860    Sara   36      Sales   4152       2          -0.586245\n",
       "2         6390    John   49         HR   2585       5          -1.142058\n",
       "3         6191  Ayesha   41      Sales   4943       2          -0.305679\n",
       "4         6734    Zain   34         IT   8555       1           0.975491"
      ]
     },
     "execution_count": 16,
     "metadata": {},
     "output_type": "execute_result"
    }
   ],
   "source": [
    "df.head()"
   ]
  },
  {
   "cell_type": "code",
   "execution_count": 17,
   "id": "c29eebc4",
   "metadata": {},
   "outputs": [
    {
     "name": "stdout",
     "output_type": "stream",
     "text": [
      "-3.3306690738754695e-17\n",
      "1.0\n"
     ]
    }
   ],
   "source": [
    "print(df['Standardize_sales'].mean())\n",
    "print(df['Standardize_sales'].std())"
   ]
  },
  {
   "cell_type": "markdown",
   "id": "01bafea4",
   "metadata": {},
   "source": [
    "# Find the employee with the highest Monthly Sales."
   ]
  },
  {
   "cell_type": "code",
   "execution_count": 18,
   "id": "c76c2d35",
   "metadata": {},
   "outputs": [
    {
     "data": {
      "text/html": [
       "<div>\n",
       "<style scoped>\n",
       "    .dataframe tbody tr th:only-of-type {\n",
       "        vertical-align: middle;\n",
       "    }\n",
       "\n",
       "    .dataframe tbody tr th {\n",
       "        vertical-align: top;\n",
       "    }\n",
       "\n",
       "    .dataframe thead th {\n",
       "        text-align: right;\n",
       "    }\n",
       "</style>\n",
       "<table border=\"1\" class=\"dataframe\">\n",
       "  <thead>\n",
       "    <tr style=\"text-align: right;\">\n",
       "      <th></th>\n",
       "      <th>Employee_ID</th>\n",
       "      <th>Name</th>\n",
       "      <th>Age</th>\n",
       "      <th>Department</th>\n",
       "      <th>Sales</th>\n",
       "      <th>Rating</th>\n",
       "      <th>Standardize_sales</th>\n",
       "    </tr>\n",
       "  </thead>\n",
       "  <tbody>\n",
       "    <tr>\n",
       "      <th>0</th>\n",
       "      <td>8270</td>\n",
       "      <td>Ali</td>\n",
       "      <td>46</td>\n",
       "      <td>IT</td>\n",
       "      <td>9226</td>\n",
       "      <td>5</td>\n",
       "      <td>1.213494</td>\n",
       "    </tr>\n",
       "    <tr>\n",
       "      <th>1</th>\n",
       "      <td>1860</td>\n",
       "      <td>Sara</td>\n",
       "      <td>36</td>\n",
       "      <td>Sales</td>\n",
       "      <td>4152</td>\n",
       "      <td>2</td>\n",
       "      <td>-0.586245</td>\n",
       "    </tr>\n",
       "    <tr>\n",
       "      <th>2</th>\n",
       "      <td>6390</td>\n",
       "      <td>John</td>\n",
       "      <td>49</td>\n",
       "      <td>HR</td>\n",
       "      <td>2585</td>\n",
       "      <td>5</td>\n",
       "      <td>-1.142058</td>\n",
       "    </tr>\n",
       "    <tr>\n",
       "      <th>3</th>\n",
       "      <td>6191</td>\n",
       "      <td>Ayesha</td>\n",
       "      <td>41</td>\n",
       "      <td>Sales</td>\n",
       "      <td>4943</td>\n",
       "      <td>2</td>\n",
       "      <td>-0.305679</td>\n",
       "    </tr>\n",
       "    <tr>\n",
       "      <th>4</th>\n",
       "      <td>6734</td>\n",
       "      <td>Zain</td>\n",
       "      <td>34</td>\n",
       "      <td>IT</td>\n",
       "      <td>8555</td>\n",
       "      <td>1</td>\n",
       "      <td>0.975491</td>\n",
       "    </tr>\n",
       "  </tbody>\n",
       "</table>\n",
       "</div>"
      ],
      "text/plain": [
       "   Employee_ID    Name  Age Department  Sales  Rating  Standardize_sales\n",
       "0         8270     Ali   46         IT   9226       5           1.213494\n",
       "1         1860    Sara   36      Sales   4152       2          -0.586245\n",
       "2         6390    John   49         HR   2585       5          -1.142058\n",
       "3         6191  Ayesha   41      Sales   4943       2          -0.305679\n",
       "4         6734    Zain   34         IT   8555       1           0.975491"
      ]
     },
     "execution_count": 18,
     "metadata": {},
     "output_type": "execute_result"
    }
   ],
   "source": [
    "df.head()"
   ]
  },
  {
   "cell_type": "code",
   "execution_count": 19,
   "id": "488ca2c7",
   "metadata": {},
   "outputs": [
    {
     "name": "stdout",
     "output_type": "stream",
     "text": [
      "************************The ID with the Maximum Sales************************:\n",
      "\n",
      "Employee_ID              8270\n",
      "Name                      Ali\n",
      "Age                        46\n",
      "Department                 IT\n",
      "Sales                    9226\n",
      "Rating                      5\n",
      "Standardize_sales    1.213494\n",
      "Name: 0, dtype: object\n"
     ]
    }
   ],
   "source": [
    "max_sales_employee = df.loc[df['Sales'].idxmax()]\n",
    "print(f'************************The ID with the Maximum Sales************************:\\n\\n{max_sales_employee}')"
   ]
  },
  {
   "cell_type": "code",
   "execution_count": 20,
   "id": "63a89ad0",
   "metadata": {},
   "outputs": [],
   "source": [
    "# way 1\n",
    "# df['Performance'] = np.where(df['Rating'] >= 4, 'Excellent', 'Needs Improvement')\n",
    "# # way 2\n",
    "df['Performance'] = df['Rating'].apply(lambda x: 'Excellent' if x >= 4 else 'Need Improvenment' )"
   ]
  },
  {
   "cell_type": "code",
   "execution_count": 21,
   "id": "eabddd61",
   "metadata": {},
   "outputs": [
    {
     "data": {
      "text/html": [
       "<div>\n",
       "<style scoped>\n",
       "    .dataframe tbody tr th:only-of-type {\n",
       "        vertical-align: middle;\n",
       "    }\n",
       "\n",
       "    .dataframe tbody tr th {\n",
       "        vertical-align: top;\n",
       "    }\n",
       "\n",
       "    .dataframe thead th {\n",
       "        text-align: right;\n",
       "    }\n",
       "</style>\n",
       "<table border=\"1\" class=\"dataframe\">\n",
       "  <thead>\n",
       "    <tr style=\"text-align: right;\">\n",
       "      <th></th>\n",
       "      <th>Employee_ID</th>\n",
       "      <th>Name</th>\n",
       "      <th>Age</th>\n",
       "      <th>Department</th>\n",
       "      <th>Sales</th>\n",
       "      <th>Rating</th>\n",
       "      <th>Standardize_sales</th>\n",
       "      <th>Performance</th>\n",
       "    </tr>\n",
       "  </thead>\n",
       "  <tbody>\n",
       "    <tr>\n",
       "      <th>0</th>\n",
       "      <td>8270</td>\n",
       "      <td>Ali</td>\n",
       "      <td>46</td>\n",
       "      <td>IT</td>\n",
       "      <td>9226</td>\n",
       "      <td>5</td>\n",
       "      <td>1.213494</td>\n",
       "      <td>Excellent</td>\n",
       "    </tr>\n",
       "    <tr>\n",
       "      <th>1</th>\n",
       "      <td>1860</td>\n",
       "      <td>Sara</td>\n",
       "      <td>36</td>\n",
       "      <td>Sales</td>\n",
       "      <td>4152</td>\n",
       "      <td>2</td>\n",
       "      <td>-0.586245</td>\n",
       "      <td>Need Improvenment</td>\n",
       "    </tr>\n",
       "    <tr>\n",
       "      <th>2</th>\n",
       "      <td>6390</td>\n",
       "      <td>John</td>\n",
       "      <td>49</td>\n",
       "      <td>HR</td>\n",
       "      <td>2585</td>\n",
       "      <td>5</td>\n",
       "      <td>-1.142058</td>\n",
       "      <td>Excellent</td>\n",
       "    </tr>\n",
       "    <tr>\n",
       "      <th>3</th>\n",
       "      <td>6191</td>\n",
       "      <td>Ayesha</td>\n",
       "      <td>41</td>\n",
       "      <td>Sales</td>\n",
       "      <td>4943</td>\n",
       "      <td>2</td>\n",
       "      <td>-0.305679</td>\n",
       "      <td>Need Improvenment</td>\n",
       "    </tr>\n",
       "    <tr>\n",
       "      <th>4</th>\n",
       "      <td>6734</td>\n",
       "      <td>Zain</td>\n",
       "      <td>34</td>\n",
       "      <td>IT</td>\n",
       "      <td>8555</td>\n",
       "      <td>1</td>\n",
       "      <td>0.975491</td>\n",
       "      <td>Need Improvenment</td>\n",
       "    </tr>\n",
       "  </tbody>\n",
       "</table>\n",
       "</div>"
      ],
      "text/plain": [
       "   Employee_ID    Name  Age Department  Sales  Rating  Standardize_sales  \\\n",
       "0         8270     Ali   46         IT   9226       5           1.213494   \n",
       "1         1860    Sara   36      Sales   4152       2          -0.586245   \n",
       "2         6390    John   49         HR   2585       5          -1.142058   \n",
       "3         6191  Ayesha   41      Sales   4943       2          -0.305679   \n",
       "4         6734    Zain   34         IT   8555       1           0.975491   \n",
       "\n",
       "         Performance  \n",
       "0          Excellent  \n",
       "1  Need Improvenment  \n",
       "2          Excellent  \n",
       "3  Need Improvenment  \n",
       "4  Need Improvenment  "
      ]
     },
     "execution_count": 21,
     "metadata": {},
     "output_type": "execute_result"
    }
   ],
   "source": [
    "df.head()"
   ]
  },
  {
   "cell_type": "markdown",
   "id": "fbe9e1a4",
   "metadata": {},
   "source": [
    "# Bonus Visualization (Optional):\n",
    "Create a bar plot of average sales per department.\n",
    "\n",
    "Create a histogram of Ratings."
   ]
  },
  {
   "cell_type": "code",
   "execution_count": 22,
   "id": "a11ff8c2",
   "metadata": {},
   "outputs": [
    {
     "data": {
      "text/html": [
       "<div>\n",
       "<style scoped>\n",
       "    .dataframe tbody tr th:only-of-type {\n",
       "        vertical-align: middle;\n",
       "    }\n",
       "\n",
       "    .dataframe tbody tr th {\n",
       "        vertical-align: top;\n",
       "    }\n",
       "\n",
       "    .dataframe thead th {\n",
       "        text-align: right;\n",
       "    }\n",
       "</style>\n",
       "<table border=\"1\" class=\"dataframe\">\n",
       "  <thead>\n",
       "    <tr style=\"text-align: right;\">\n",
       "      <th></th>\n",
       "      <th>Employee_ID</th>\n",
       "      <th>Name</th>\n",
       "      <th>Age</th>\n",
       "      <th>Department</th>\n",
       "      <th>Sales</th>\n",
       "      <th>Rating</th>\n",
       "      <th>Standardize_sales</th>\n",
       "      <th>Performance</th>\n",
       "    </tr>\n",
       "  </thead>\n",
       "  <tbody>\n",
       "    <tr>\n",
       "      <th>0</th>\n",
       "      <td>8270</td>\n",
       "      <td>Ali</td>\n",
       "      <td>46</td>\n",
       "      <td>IT</td>\n",
       "      <td>9226</td>\n",
       "      <td>5</td>\n",
       "      <td>1.213494</td>\n",
       "      <td>Excellent</td>\n",
       "    </tr>\n",
       "    <tr>\n",
       "      <th>1</th>\n",
       "      <td>1860</td>\n",
       "      <td>Sara</td>\n",
       "      <td>36</td>\n",
       "      <td>Sales</td>\n",
       "      <td>4152</td>\n",
       "      <td>2</td>\n",
       "      <td>-0.586245</td>\n",
       "      <td>Need Improvenment</td>\n",
       "    </tr>\n",
       "    <tr>\n",
       "      <th>2</th>\n",
       "      <td>6390</td>\n",
       "      <td>John</td>\n",
       "      <td>49</td>\n",
       "      <td>HR</td>\n",
       "      <td>2585</td>\n",
       "      <td>5</td>\n",
       "      <td>-1.142058</td>\n",
       "      <td>Excellent</td>\n",
       "    </tr>\n",
       "    <tr>\n",
       "      <th>3</th>\n",
       "      <td>6191</td>\n",
       "      <td>Ayesha</td>\n",
       "      <td>41</td>\n",
       "      <td>Sales</td>\n",
       "      <td>4943</td>\n",
       "      <td>2</td>\n",
       "      <td>-0.305679</td>\n",
       "      <td>Need Improvenment</td>\n",
       "    </tr>\n",
       "    <tr>\n",
       "      <th>4</th>\n",
       "      <td>6734</td>\n",
       "      <td>Zain</td>\n",
       "      <td>34</td>\n",
       "      <td>IT</td>\n",
       "      <td>8555</td>\n",
       "      <td>1</td>\n",
       "      <td>0.975491</td>\n",
       "      <td>Need Improvenment</td>\n",
       "    </tr>\n",
       "  </tbody>\n",
       "</table>\n",
       "</div>"
      ],
      "text/plain": [
       "   Employee_ID    Name  Age Department  Sales  Rating  Standardize_sales  \\\n",
       "0         8270     Ali   46         IT   9226       5           1.213494   \n",
       "1         1860    Sara   36      Sales   4152       2          -0.586245   \n",
       "2         6390    John   49         HR   2585       5          -1.142058   \n",
       "3         6191  Ayesha   41      Sales   4943       2          -0.305679   \n",
       "4         6734    Zain   34         IT   8555       1           0.975491   \n",
       "\n",
       "         Performance  \n",
       "0          Excellent  \n",
       "1  Need Improvenment  \n",
       "2          Excellent  \n",
       "3  Need Improvenment  \n",
       "4  Need Improvenment  "
      ]
     },
     "execution_count": 22,
     "metadata": {},
     "output_type": "execute_result"
    }
   ],
   "source": [
    "df.head()"
   ]
  },
  {
   "cell_type": "code",
   "execution_count": 23,
   "id": "2e31eff7",
   "metadata": {},
   "outputs": [
    {
     "data": {
      "image/png": "[encoded data removed]",
      "text/plain": [
       "<Figure size 1000x700 with 1 Axes>"
      ]
     },
     "metadata": {},
     "output_type": "display_data"
    }
   ],
   "source": [
    "# barplot \n",
    "plt.figure(figsize=(10,7))\n",
    "sns.barplot(x='Department',y='Sales',data=df,estimator=np.mean,palette='coolwarm')\n",
    "plt.title('Average Monthly Sales per Department')\n",
    "plt.ylabel('Average Sales')\n",
    "plt.xlabel('Department')\n",
    "plt.show()"
   ]
  },
  {
   "cell_type": "markdown",
   "id": "eedc30bb",
   "metadata": {},
   "source": [
    "# What are the black lines?\n",
    "They are called error bars.\n",
    "\n",
    "#Think of it like this:\n",
    "Imagine you measure the average sales of each department.\n",
    "\n",
    "But the sales are not the same every day, right?\n",
    "\n",
    "Sometimes they are high, sometimes low.\n",
    "\n",
    "So the black line tells you:\n",
    "\n",
    "\n",
    "| **What it shows**      | **Meaning**                                  |\n",
    "| ---------------------- | -------------------------------------------- |\n",
    "| **Top of the line**    | Possible **highest sales**                   |\n",
    "| **Bottom of the line** | Possible **lowest sales**                    |\n",
    "| **The line itself**    | Shows how much the data **varies (changes)** |\n"
   ]
  },
  {
   "cell_type": "code",
   "execution_count": 24,
   "id": "3bbe7d29",
   "metadata": {},
   "outputs": [
    {
     "data": {
      "image/png": "[encoded data removed]",
      "text/plain": [
       "<Figure size 800x500 with 1 Axes>"
      ]
     },
     "metadata": {},
     "output_type": "display_data"
    }
   ],
   "source": [
    "# histplot for rating\n",
    "plt.figure(figsize=(8,5))\n",
    "sns.histplot(df['Rating'], bins=5, kde=True, color='skyblue')\n",
    "plt.title('Distribution of Employee Ratings')\n",
    "plt.xlabel('Rating')\n",
    "plt.ylabel('Count')\n",
    "plt.show()"
   ]
  },
  {
   "cell_type": "code",
   "execution_count": 25,
   "id": "37d6738f",
   "metadata": {},
   "outputs": [],
   "source": [
    "# We didnt study about date and time in pandas ......"
   ]
  },
  {
   "cell_type": "markdown",
   "id": "6ed60373",
   "metadata": {},
   "source": [
    "# What is Datetime in Pandas?\n",
    "Pandas can work with dates and times just like numbers or text.\n",
    "\n",
    "It helps you to:\n",
    "\n",
    "| **Task**           | **Example**                   |\n",
    "| ------------------ | ----------------------------- |\n",
    "| Create date ranges | January 1 to January 10       |\n",
    "| Set date as index  | For time series data          |\n",
    "| Filter by date     | Get data from January only    |\n",
    "| Resample data      | Convert daily data to monthly |\n",
    "| Extract parts      | Get year, month, day          |\n",
    "\n",
    "\n",
    "# Important Functions:\n",
    "\n",
    "| Function               | Use                         |\n",
    "| ---------------------- | --------------------------- |\n",
    "| `pd.date_range()`      | Create a range of dates     |\n",
    "| `pd.to_datetime()`     | Convert strings to datetime |\n",
    "| `df.set_index('date')` | Make date the index         |\n",
    "| `df.resample('M')`     | Group data by month         |\n",
    "| `df['date'].dt.day`    | Extract day from date       |\n"
   ]
  },
  {
   "cell_type": "markdown",
   "id": "971a6ea9",
   "metadata": {},
   "source": [
    "# 1. Create Dates"
   ]
  },
  {
   "cell_type": "code",
   "execution_count": 26,
   "id": "0608ab6f",
   "metadata": {},
   "outputs": [],
   "source": [
    "dates = pd.date_range(start='2025-01-01',end='2025-01-10')"
   ]
  },
  {
   "cell_type": "code",
   "execution_count": 27,
   "id": "9875f337",
   "metadata": {},
   "outputs": [
    {
     "data": {
      "text/plain": [
       "DatetimeIndex(['2025-01-01', '2025-01-02', '2025-01-03', '2025-01-04',\n",
       "               '2025-01-05', '2025-01-06', '2025-01-07', '2025-01-08',\n",
       "               '2025-01-09', '2025-01-10'],\n",
       "              dtype='datetime64[ns]', freq='D')"
      ]
     },
     "execution_count": 27,
     "metadata": {},
     "output_type": "execute_result"
    }
   ],
   "source": [
    "dates"
   ]
  },
  {
   "cell_type": "markdown",
   "id": "e417bcbe",
   "metadata": {},
   "source": [
    "# 2. Convert to Datetime"
   ]
  },
  {
   "cell_type": "code",
   "execution_count": 28,
   "id": "e1a77276",
   "metadata": {},
   "outputs": [],
   "source": [
    "data = {\n",
    "    'Dates': ['2025-01-01','2025-01-02','2025-01-03','2025-01-04','2025-01-05'],\n",
    "    'Values' : [10,20,30,40,50]\n",
    "}"
   ]
  },
  {
   "cell_type": "code",
   "execution_count": 29,
   "id": "332bf463",
   "metadata": {},
   "outputs": [
    {
     "name": "stdout",
     "output_type": "stream",
     "text": [
      "{'Dates': ['2025-01-01', '2025-01-02', '2025-01-03', '2025-01-04', '2025-01-05'], 'Values': [10, 20, 30, 40, 50]}\n"
     ]
    }
   ],
   "source": [
    "print(data)"
   ]
  },
  {
   "cell_type": "code",
   "execution_count": 30,
   "id": "34a51ff6",
   "metadata": {},
   "outputs": [
    {
     "data": {
      "text/html": [
       "<div>\n",
       "<style scoped>\n",
       "    .dataframe tbody tr th:only-of-type {\n",
       "        vertical-align: middle;\n",
       "    }\n",
       "\n",
       "    .dataframe tbody tr th {\n",
       "        vertical-align: top;\n",
       "    }\n",
       "\n",
       "    .dataframe thead th {\n",
       "        text-align: right;\n",
       "    }\n",
       "</style>\n",
       "<table border=\"1\" class=\"dataframe\">\n",
       "  <thead>\n",
       "    <tr style=\"text-align: right;\">\n",
       "      <th></th>\n",
       "      <th>Dates</th>\n",
       "      <th>Values</th>\n",
       "    </tr>\n",
       "  </thead>\n",
       "  <tbody>\n",
       "    <tr>\n",
       "      <th>0</th>\n",
       "      <td>2025-01-01</td>\n",
       "      <td>10</td>\n",
       "    </tr>\n",
       "    <tr>\n",
       "      <th>1</th>\n",
       "      <td>2025-01-02</td>\n",
       "      <td>20</td>\n",
       "    </tr>\n",
       "    <tr>\n",
       "      <th>2</th>\n",
       "      <td>2025-01-03</td>\n",
       "      <td>30</td>\n",
       "    </tr>\n",
       "    <tr>\n",
       "      <th>3</th>\n",
       "      <td>2025-01-04</td>\n",
       "      <td>40</td>\n",
       "    </tr>\n",
       "    <tr>\n",
       "      <th>4</th>\n",
       "      <td>2025-01-05</td>\n",
       "      <td>50</td>\n",
       "    </tr>\n",
       "  </tbody>\n",
       "</table>\n",
       "</div>"
      ],
      "text/plain": [
       "        Dates  Values\n",
       "0  2025-01-01      10\n",
       "1  2025-01-02      20\n",
       "2  2025-01-03      30\n",
       "3  2025-01-04      40\n",
       "4  2025-01-05      50"
      ]
     },
     "execution_count": 30,
     "metadata": {},
     "output_type": "execute_result"
    }
   ],
   "source": [
    "# coverting this data into dataframe.\n",
    "\n",
    "df = pd.DataFrame(data)\n",
    "df"
   ]
  },
  {
   "cell_type": "code",
   "execution_count": 31,
   "id": "6c082e80",
   "metadata": {},
   "outputs": [
    {
     "data": {
      "text/plain": [
       "Dates     object\n",
       "Values     int64\n",
       "dtype: object"
      ]
     },
     "execution_count": 31,
     "metadata": {},
     "output_type": "execute_result"
    }
   ],
   "source": [
    "df.dtypes"
   ]
  },
  {
   "cell_type": "code",
   "execution_count": 32,
   "id": "2093eed3",
   "metadata": {},
   "outputs": [],
   "source": [
    "# converting the dtypes of date from object to datetime.\n",
    "\n",
    "df['Dates'] = pd.to_datetime(df['Dates'])"
   ]
  },
  {
   "cell_type": "code",
   "execution_count": 33,
   "id": "efff12cc",
   "metadata": {},
   "outputs": [
    {
     "data": {
      "text/plain": [
       "Dates     datetime64[ns]\n",
       "Values             int64\n",
       "dtype: object"
      ]
     },
     "execution_count": 33,
     "metadata": {},
     "output_type": "execute_result"
    }
   ],
   "source": [
    "df.dtypes"
   ]
  },
  {
   "cell_type": "markdown",
   "id": "fbad8394",
   "metadata": {},
   "source": [
    "# 3.Extract Parts of Date"
   ]
  },
  {
   "cell_type": "code",
   "execution_count": 34,
   "id": "fa118bdc",
   "metadata": {},
   "outputs": [],
   "source": [
    "df['Day'] = df['Dates'].dt.year\n",
    "df['Month'] = df['Dates'].dt.month\n",
    "df['Year'] = df['Dates'].dt.day"
   ]
  },
  {
   "cell_type": "code",
   "execution_count": 35,
   "id": "873d58fd",
   "metadata": {},
   "outputs": [
    {
     "data": {
      "text/html": [
       "<div>\n",
       "<style scoped>\n",
       "    .dataframe tbody tr th:only-of-type {\n",
       "        vertical-align: middle;\n",
       "    }\n",
       "\n",
       "    .dataframe tbody tr th {\n",
       "        vertical-align: top;\n",
       "    }\n",
       "\n",
       "    .dataframe thead th {\n",
       "        text-align: right;\n",
       "    }\n",
       "</style>\n",
       "<table border=\"1\" class=\"dataframe\">\n",
       "  <thead>\n",
       "    <tr style=\"text-align: right;\">\n",
       "      <th></th>\n",
       "      <th>Dates</th>\n",
       "      <th>Values</th>\n",
       "      <th>Day</th>\n",
       "      <th>Month</th>\n",
       "      <th>Year</th>\n",
       "    </tr>\n",
       "  </thead>\n",
       "  <tbody>\n",
       "    <tr>\n",
       "      <th>0</th>\n",
       "      <td>2025-01-01</td>\n",
       "      <td>10</td>\n",
       "      <td>2025</td>\n",
       "      <td>1</td>\n",
       "      <td>1</td>\n",
       "    </tr>\n",
       "    <tr>\n",
       "      <th>1</th>\n",
       "      <td>2025-01-02</td>\n",
       "      <td>20</td>\n",
       "      <td>2025</td>\n",
       "      <td>1</td>\n",
       "      <td>2</td>\n",
       "    </tr>\n",
       "    <tr>\n",
       "      <th>2</th>\n",
       "      <td>2025-01-03</td>\n",
       "      <td>30</td>\n",
       "      <td>2025</td>\n",
       "      <td>1</td>\n",
       "      <td>3</td>\n",
       "    </tr>\n",
       "    <tr>\n",
       "      <th>3</th>\n",
       "      <td>2025-01-04</td>\n",
       "      <td>40</td>\n",
       "      <td>2025</td>\n",
       "      <td>1</td>\n",
       "      <td>4</td>\n",
       "    </tr>\n",
       "    <tr>\n",
       "      <th>4</th>\n",
       "      <td>2025-01-05</td>\n",
       "      <td>50</td>\n",
       "      <td>2025</td>\n",
       "      <td>1</td>\n",
       "      <td>5</td>\n",
       "    </tr>\n",
       "  </tbody>\n",
       "</table>\n",
       "</div>"
      ],
      "text/plain": [
       "       Dates  Values   Day  Month  Year\n",
       "0 2025-01-01      10  2025      1     1\n",
       "1 2025-01-02      20  2025      1     2\n",
       "2 2025-01-03      30  2025      1     3\n",
       "3 2025-01-04      40  2025      1     4\n",
       "4 2025-01-05      50  2025      1     5"
      ]
     },
     "execution_count": 35,
     "metadata": {},
     "output_type": "execute_result"
    }
   ],
   "source": [
    "df"
   ]
  },
  {
   "cell_type": "markdown",
   "id": "f50140a1",
   "metadata": {},
   "source": [
    "# 4. Resample Daily Data to Monthly"
   ]
  },
  {
   "cell_type": "code",
   "execution_count": 36,
   "id": "c1611a9f",
   "metadata": {},
   "outputs": [],
   "source": [
    "df.set_index('Dates',inplace=True)"
   ]
  },
  {
   "cell_type": "code",
   "execution_count": 37,
   "id": "f3efdce2",
   "metadata": {},
   "outputs": [
    {
     "data": {
      "text/html": [
       "<div>\n",
       "<style scoped>\n",
       "    .dataframe tbody tr th:only-of-type {\n",
       "        vertical-align: middle;\n",
       "    }\n",
       "\n",
       "    .dataframe tbody tr th {\n",
       "        vertical-align: top;\n",
       "    }\n",
       "\n",
       "    .dataframe thead th {\n",
       "        text-align: right;\n",
       "    }\n",
       "</style>\n",
       "<table border=\"1\" class=\"dataframe\">\n",
       "  <thead>\n",
       "    <tr style=\"text-align: right;\">\n",
       "      <th></th>\n",
       "      <th>Values</th>\n",
       "      <th>Day</th>\n",
       "      <th>Month</th>\n",
       "      <th>Year</th>\n",
       "    </tr>\n",
       "    <tr>\n",
       "      <th>Dates</th>\n",
       "      <th></th>\n",
       "      <th></th>\n",
       "      <th></th>\n",
       "      <th></th>\n",
       "    </tr>\n",
       "  </thead>\n",
       "  <tbody>\n",
       "    <tr>\n",
       "      <th>2025-01-01</th>\n",
       "      <td>10</td>\n",
       "      <td>2025</td>\n",
       "      <td>1</td>\n",
       "      <td>1</td>\n",
       "    </tr>\n",
       "    <tr>\n",
       "      <th>2025-01-02</th>\n",
       "      <td>20</td>\n",
       "      <td>2025</td>\n",
       "      <td>1</td>\n",
       "      <td>2</td>\n",
       "    </tr>\n",
       "    <tr>\n",
       "      <th>2025-01-03</th>\n",
       "      <td>30</td>\n",
       "      <td>2025</td>\n",
       "      <td>1</td>\n",
       "      <td>3</td>\n",
       "    </tr>\n",
       "    <tr>\n",
       "      <th>2025-01-04</th>\n",
       "      <td>40</td>\n",
       "      <td>2025</td>\n",
       "      <td>1</td>\n",
       "      <td>4</td>\n",
       "    </tr>\n",
       "    <tr>\n",
       "      <th>2025-01-05</th>\n",
       "      <td>50</td>\n",
       "      <td>2025</td>\n",
       "      <td>1</td>\n",
       "      <td>5</td>\n",
       "    </tr>\n",
       "  </tbody>\n",
       "</table>\n",
       "</div>"
      ],
      "text/plain": [
       "            Values   Day  Month  Year\n",
       "Dates                                \n",
       "2025-01-01      10  2025      1     1\n",
       "2025-01-02      20  2025      1     2\n",
       "2025-01-03      30  2025      1     3\n",
       "2025-01-04      40  2025      1     4\n",
       "2025-01-05      50  2025      1     5"
      ]
     },
     "execution_count": 37,
     "metadata": {},
     "output_type": "execute_result"
    }
   ],
   "source": [
    "df"
   ]
  },
  {
   "cell_type": "code",
   "execution_count": 38,
   "id": "3c76b852",
   "metadata": {},
   "outputs": [],
   "source": [
    "mon_avg = df.resample('M').mean()"
   ]
  },
  {
   "cell_type": "code",
   "execution_count": 39,
   "id": "2a3d7e49",
   "metadata": {},
   "outputs": [
    {
     "data": {
      "text/html": [
       "<div>\n",
       "<style scoped>\n",
       "    .dataframe tbody tr th:only-of-type {\n",
       "        vertical-align: middle;\n",
       "    }\n",
       "\n",
       "    .dataframe tbody tr th {\n",
       "        vertical-align: top;\n",
       "    }\n",
       "\n",
       "    .dataframe thead th {\n",
       "        text-align: right;\n",
       "    }\n",
       "</style>\n",
       "<table border=\"1\" class=\"dataframe\">\n",
       "  <thead>\n",
       "    <tr style=\"text-align: right;\">\n",
       "      <th></th>\n",
       "      <th>Values</th>\n",
       "      <th>Day</th>\n",
       "      <th>Month</th>\n",
       "      <th>Year</th>\n",
       "    </tr>\n",
       "    <tr>\n",
       "      <th>Dates</th>\n",
       "      <th></th>\n",
       "      <th></th>\n",
       "      <th></th>\n",
       "      <th></th>\n",
       "    </tr>\n",
       "  </thead>\n",
       "  <tbody>\n",
       "    <tr>\n",
       "      <th>2025-01-31</th>\n",
       "      <td>30.0</td>\n",
       "      <td>2025.0</td>\n",
       "      <td>1.0</td>\n",
       "      <td>3.0</td>\n",
       "    </tr>\n",
       "  </tbody>\n",
       "</table>\n",
       "</div>"
      ],
      "text/plain": [
       "            Values     Day  Month  Year\n",
       "Dates                                  \n",
       "2025-01-31    30.0  2025.0    1.0   3.0"
      ]
     },
     "execution_count": 39,
     "metadata": {},
     "output_type": "execute_result"
    }
   ],
   "source": [
    "mon_avg"
   ]
  },
  {
   "cell_type": "markdown",
   "id": "911b5ee7",
   "metadata": {},
   "source": [
    "# Scenario:\n",
    "You have daily sales data for a shop in January 2023.\n",
    "    \n",
    "You will:\n",
    "\n",
    "Create datetime data\n",
    "\n",
    "Work with date parts\n",
    "\n",
    "Do filtering by date\n",
    "\n",
    "Do resampling (monthly/weekly sums)\n",
    "\n",
    "Plot the data"
   ]
  },
  {
   "cell_type": "markdown",
   "id": "041b87be",
   "metadata": {},
   "source": [
    "# 1. Create Date Range & Create Random Sales Data"
   ]
  },
  {
   "cell_type": "code",
   "execution_count": 40,
   "id": "00eb658e",
   "metadata": {},
   "outputs": [],
   "source": [
    "\n",
    "date_rng = pd.date_range(start='2023-01-01',end='2023-01-31',freq='D')\n",
    "np.random.seed(42)\n",
    "\n",
    "sales = np.random.randint(100,1000,size=len(date_rng) )"
   ]
  },
  {
   "cell_type": "code",
   "execution_count": 41,
   "id": "1dfd6bff",
   "metadata": {},
   "outputs": [
    {
     "name": "stdout",
     "output_type": "stream",
     "text": [
      "DatetimeIndex(['2023-01-01', '2023-01-02', '2023-01-03', '2023-01-04',\n",
      "               '2023-01-05', '2023-01-06', '2023-01-07', '2023-01-08',\n",
      "               '2023-01-09', '2023-01-10', '2023-01-11', '2023-01-12',\n",
      "               '2023-01-13', '2023-01-14', '2023-01-15', '2023-01-16',\n",
      "               '2023-01-17', '2023-01-18', '2023-01-19', '2023-01-20',\n",
      "               '2023-01-21', '2023-01-22', '2023-01-23', '2023-01-24',\n",
      "               '2023-01-25', '2023-01-26', '2023-01-27', '2023-01-28',\n",
      "               '2023-01-29', '2023-01-30', '2023-01-31'],\n",
      "              dtype='datetime64[ns]', freq='D')\n",
      "\n",
      "\n",
      "[202 535 960 370 206 171 800 120 714 221 566 314 430 558 187 472 199 971\n",
      " 763 230 761 408 869 443 591 513 905 485 291 376 260]\n"
     ]
    }
   ],
   "source": [
    "print(date_rng)\n",
    "print('\\n')\n",
    "print(sales)"
   ]
  },
  {
   "cell_type": "markdown",
   "id": "c29b7c49",
   "metadata": {},
   "source": [
    "# 2.Create DataFrame"
   ]
  },
  {
   "cell_type": "code",
   "execution_count": 42,
   "id": "b5bd1f5a",
   "metadata": {},
   "outputs": [
    {
     "data": {
      "text/html": [
       "<div>\n",
       "<style scoped>\n",
       "    .dataframe tbody tr th:only-of-type {\n",
       "        vertical-align: middle;\n",
       "    }\n",
       "\n",
       "    .dataframe tbody tr th {\n",
       "        vertical-align: top;\n",
       "    }\n",
       "\n",
       "    .dataframe thead th {\n",
       "        text-align: right;\n",
       "    }\n",
       "</style>\n",
       "<table border=\"1\" class=\"dataframe\">\n",
       "  <thead>\n",
       "    <tr style=\"text-align: right;\">\n",
       "      <th></th>\n",
       "      <th>Date</th>\n",
       "      <th>Sales</th>\n",
       "    </tr>\n",
       "  </thead>\n",
       "  <tbody>\n",
       "    <tr>\n",
       "      <th>0</th>\n",
       "      <td>2023-01-01</td>\n",
       "      <td>202</td>\n",
       "    </tr>\n",
       "    <tr>\n",
       "      <th>1</th>\n",
       "      <td>2023-01-02</td>\n",
       "      <td>535</td>\n",
       "    </tr>\n",
       "    <tr>\n",
       "      <th>2</th>\n",
       "      <td>2023-01-03</td>\n",
       "      <td>960</td>\n",
       "    </tr>\n",
       "    <tr>\n",
       "      <th>3</th>\n",
       "      <td>2023-01-04</td>\n",
       "      <td>370</td>\n",
       "    </tr>\n",
       "    <tr>\n",
       "      <th>4</th>\n",
       "      <td>2023-01-05</td>\n",
       "      <td>206</td>\n",
       "    </tr>\n",
       "  </tbody>\n",
       "</table>\n",
       "</div>"
      ],
      "text/plain": [
       "        Date  Sales\n",
       "0 2023-01-01    202\n",
       "1 2023-01-02    535\n",
       "2 2023-01-03    960\n",
       "3 2023-01-04    370\n",
       "4 2023-01-05    206"
      ]
     },
     "execution_count": 42,
     "metadata": {},
     "output_type": "execute_result"
    }
   ],
   "source": [
    "\n",
    "df1 = pd.DataFrame({'Date':date_rng,'Sales':sales})\n",
    "df1.head()"
   ]
  },
  {
   "cell_type": "markdown",
   "id": "d1a8f0d4",
   "metadata": {},
   "source": [
    "# 3.Extract Date Parts"
   ]
  },
  {
   "cell_type": "code",
   "execution_count": 43,
   "id": "6df12901",
   "metadata": {},
   "outputs": [],
   "source": [
    "\n",
    "\n",
    "df1['WeekDays'] = df1['Date'].dt.day_name()\n",
    "df1['Day'] = df1['Date'].dt.day\n",
    "df1['Month'] = df1['Date'].dt.month\n",
    "df1['Year'] = df1['Date'].dt.year"
   ]
  },
  {
   "cell_type": "code",
   "execution_count": 44,
   "id": "6f8731e5",
   "metadata": {},
   "outputs": [
    {
     "data": {
      "text/html": [
       "<div>\n",
       "<style scoped>\n",
       "    .dataframe tbody tr th:only-of-type {\n",
       "        vertical-align: middle;\n",
       "    }\n",
       "\n",
       "    .dataframe tbody tr th {\n",
       "        vertical-align: top;\n",
       "    }\n",
       "\n",
       "    .dataframe thead th {\n",
       "        text-align: right;\n",
       "    }\n",
       "</style>\n",
       "<table border=\"1\" class=\"dataframe\">\n",
       "  <thead>\n",
       "    <tr style=\"text-align: right;\">\n",
       "      <th></th>\n",
       "      <th>Date</th>\n",
       "      <th>Sales</th>\n",
       "      <th>WeekDays</th>\n",
       "      <th>Day</th>\n",
       "      <th>Month</th>\n",
       "      <th>Year</th>\n",
       "    </tr>\n",
       "  </thead>\n",
       "  <tbody>\n",
       "    <tr>\n",
       "      <th>0</th>\n",
       "      <td>2023-01-01</td>\n",
       "      <td>202</td>\n",
       "      <td>Sunday</td>\n",
       "      <td>1</td>\n",
       "      <td>1</td>\n",
       "      <td>2023</td>\n",
       "    </tr>\n",
       "    <tr>\n",
       "      <th>1</th>\n",
       "      <td>2023-01-02</td>\n",
       "      <td>535</td>\n",
       "      <td>Monday</td>\n",
       "      <td>2</td>\n",
       "      <td>1</td>\n",
       "      <td>2023</td>\n",
       "    </tr>\n",
       "    <tr>\n",
       "      <th>2</th>\n",
       "      <td>2023-01-03</td>\n",
       "      <td>960</td>\n",
       "      <td>Tuesday</td>\n",
       "      <td>3</td>\n",
       "      <td>1</td>\n",
       "      <td>2023</td>\n",
       "    </tr>\n",
       "    <tr>\n",
       "      <th>3</th>\n",
       "      <td>2023-01-04</td>\n",
       "      <td>370</td>\n",
       "      <td>Wednesday</td>\n",
       "      <td>4</td>\n",
       "      <td>1</td>\n",
       "      <td>2023</td>\n",
       "    </tr>\n",
       "    <tr>\n",
       "      <th>4</th>\n",
       "      <td>2023-01-05</td>\n",
       "      <td>206</td>\n",
       "      <td>Thursday</td>\n",
       "      <td>5</td>\n",
       "      <td>1</td>\n",
       "      <td>2023</td>\n",
       "    </tr>\n",
       "  </tbody>\n",
       "</table>\n",
       "</div>"
      ],
      "text/plain": [
       "        Date  Sales   WeekDays  Day  Month  Year\n",
       "0 2023-01-01    202     Sunday    1      1  2023\n",
       "1 2023-01-02    535     Monday    2      1  2023\n",
       "2 2023-01-03    960    Tuesday    3      1  2023\n",
       "3 2023-01-04    370  Wednesday    4      1  2023\n",
       "4 2023-01-05    206   Thursday    5      1  2023"
      ]
     },
     "execution_count": 44,
     "metadata": {},
     "output_type": "execute_result"
    }
   ],
   "source": [
    "df1.head()"
   ]
  },
  {
   "cell_type": "markdown",
   "id": "83981bf3",
   "metadata": {},
   "source": [
    "# 4.Filter Data (after Jan 15th)"
   ]
  },
  {
   "cell_type": "code",
   "execution_count": 45,
   "id": "1412932a",
   "metadata": {},
   "outputs": [],
   "source": [
    "\n",
    "\n",
    "filter_df1 = df1[df1['Date'] > '2023-01-15']"
   ]
  },
  {
   "cell_type": "code",
   "execution_count": 46,
   "id": "f186e4fd",
   "metadata": {},
   "outputs": [
    {
     "data": {
      "text/html": [
       "<div>\n",
       "<style scoped>\n",
       "    .dataframe tbody tr th:only-of-type {\n",
       "        vertical-align: middle;\n",
       "    }\n",
       "\n",
       "    .dataframe tbody tr th {\n",
       "        vertical-align: top;\n",
       "    }\n",
       "\n",
       "    .dataframe thead th {\n",
       "        text-align: right;\n",
       "    }\n",
       "</style>\n",
       "<table border=\"1\" class=\"dataframe\">\n",
       "  <thead>\n",
       "    <tr style=\"text-align: right;\">\n",
       "      <th></th>\n",
       "      <th>Date</th>\n",
       "      <th>Sales</th>\n",
       "      <th>WeekDays</th>\n",
       "      <th>Day</th>\n",
       "      <th>Month</th>\n",
       "      <th>Year</th>\n",
       "    </tr>\n",
       "  </thead>\n",
       "  <tbody>\n",
       "    <tr>\n",
       "      <th>15</th>\n",
       "      <td>2023-01-16</td>\n",
       "      <td>472</td>\n",
       "      <td>Monday</td>\n",
       "      <td>16</td>\n",
       "      <td>1</td>\n",
       "      <td>2023</td>\n",
       "    </tr>\n",
       "    <tr>\n",
       "      <th>16</th>\n",
       "      <td>2023-01-17</td>\n",
       "      <td>199</td>\n",
       "      <td>Tuesday</td>\n",
       "      <td>17</td>\n",
       "      <td>1</td>\n",
       "      <td>2023</td>\n",
       "    </tr>\n",
       "    <tr>\n",
       "      <th>17</th>\n",
       "      <td>2023-01-18</td>\n",
       "      <td>971</td>\n",
       "      <td>Wednesday</td>\n",
       "      <td>18</td>\n",
       "      <td>1</td>\n",
       "      <td>2023</td>\n",
       "    </tr>\n",
       "    <tr>\n",
       "      <th>18</th>\n",
       "      <td>2023-01-19</td>\n",
       "      <td>763</td>\n",
       "      <td>Thursday</td>\n",
       "      <td>19</td>\n",
       "      <td>1</td>\n",
       "      <td>2023</td>\n",
       "    </tr>\n",
       "    <tr>\n",
       "      <th>19</th>\n",
       "      <td>2023-01-20</td>\n",
       "      <td>230</td>\n",
       "      <td>Friday</td>\n",
       "      <td>20</td>\n",
       "      <td>1</td>\n",
       "      <td>2023</td>\n",
       "    </tr>\n",
       "    <tr>\n",
       "      <th>20</th>\n",
       "      <td>2023-01-21</td>\n",
       "      <td>761</td>\n",
       "      <td>Saturday</td>\n",
       "      <td>21</td>\n",
       "      <td>1</td>\n",
       "      <td>2023</td>\n",
       "    </tr>\n",
       "    <tr>\n",
       "      <th>21</th>\n",
       "      <td>2023-01-22</td>\n",
       "      <td>408</td>\n",
       "      <td>Sunday</td>\n",
       "      <td>22</td>\n",
       "      <td>1</td>\n",
       "      <td>2023</td>\n",
       "    </tr>\n",
       "    <tr>\n",
       "      <th>22</th>\n",
       "      <td>2023-01-23</td>\n",
       "      <td>869</td>\n",
       "      <td>Monday</td>\n",
       "      <td>23</td>\n",
       "      <td>1</td>\n",
       "      <td>2023</td>\n",
       "    </tr>\n",
       "    <tr>\n",
       "      <th>23</th>\n",
       "      <td>2023-01-24</td>\n",
       "      <td>443</td>\n",
       "      <td>Tuesday</td>\n",
       "      <td>24</td>\n",
       "      <td>1</td>\n",
       "      <td>2023</td>\n",
       "    </tr>\n",
       "    <tr>\n",
       "      <th>24</th>\n",
       "      <td>2023-01-25</td>\n",
       "      <td>591</td>\n",
       "      <td>Wednesday</td>\n",
       "      <td>25</td>\n",
       "      <td>1</td>\n",
       "      <td>2023</td>\n",
       "    </tr>\n",
       "    <tr>\n",
       "      <th>25</th>\n",
       "      <td>2023-01-26</td>\n",
       "      <td>513</td>\n",
       "      <td>Thursday</td>\n",
       "      <td>26</td>\n",
       "      <td>1</td>\n",
       "      <td>2023</td>\n",
       "    </tr>\n",
       "    <tr>\n",
       "      <th>26</th>\n",
       "      <td>2023-01-27</td>\n",
       "      <td>905</td>\n",
       "      <td>Friday</td>\n",
       "      <td>27</td>\n",
       "      <td>1</td>\n",
       "      <td>2023</td>\n",
       "    </tr>\n",
       "    <tr>\n",
       "      <th>27</th>\n",
       "      <td>2023-01-28</td>\n",
       "      <td>485</td>\n",
       "      <td>Saturday</td>\n",
       "      <td>28</td>\n",
       "      <td>1</td>\n",
       "      <td>2023</td>\n",
       "    </tr>\n",
       "    <tr>\n",
       "      <th>28</th>\n",
       "      <td>2023-01-29</td>\n",
       "      <td>291</td>\n",
       "      <td>Sunday</td>\n",
       "      <td>29</td>\n",
       "      <td>1</td>\n",
       "      <td>2023</td>\n",
       "    </tr>\n",
       "    <tr>\n",
       "      <th>29</th>\n",
       "      <td>2023-01-30</td>\n",
       "      <td>376</td>\n",
       "      <td>Monday</td>\n",
       "      <td>30</td>\n",
       "      <td>1</td>\n",
       "      <td>2023</td>\n",
       "    </tr>\n",
       "    <tr>\n",
       "      <th>30</th>\n",
       "      <td>2023-01-31</td>\n",
       "      <td>260</td>\n",
       "      <td>Tuesday</td>\n",
       "      <td>31</td>\n",
       "      <td>1</td>\n",
       "      <td>2023</td>\n",
       "    </tr>\n",
       "  </tbody>\n",
       "</table>\n",
       "</div>"
      ],
      "text/plain": [
       "         Date  Sales   WeekDays  Day  Month  Year\n",
       "15 2023-01-16    472     Monday   16      1  2023\n",
       "16 2023-01-17    199    Tuesday   17      1  2023\n",
       "17 2023-01-18    971  Wednesday   18      1  2023\n",
       "18 2023-01-19    763   Thursday   19      1  2023\n",
       "19 2023-01-20    230     Friday   20      1  2023\n",
       "20 2023-01-21    761   Saturday   21      1  2023\n",
       "21 2023-01-22    408     Sunday   22      1  2023\n",
       "22 2023-01-23    869     Monday   23      1  2023\n",
       "23 2023-01-24    443    Tuesday   24      1  2023\n",
       "24 2023-01-25    591  Wednesday   25      1  2023\n",
       "25 2023-01-26    513   Thursday   26      1  2023\n",
       "26 2023-01-27    905     Friday   27      1  2023\n",
       "27 2023-01-28    485   Saturday   28      1  2023\n",
       "28 2023-01-29    291     Sunday   29      1  2023\n",
       "29 2023-01-30    376     Monday   30      1  2023\n",
       "30 2023-01-31    260    Tuesday   31      1  2023"
      ]
     },
     "execution_count": 46,
     "metadata": {},
     "output_type": "execute_result"
    }
   ],
   "source": [
    "filter_df1"
   ]
  },
  {
   "cell_type": "markdown",
   "id": "70f4e0d6",
   "metadata": {},
   "source": [
    "# 5.Set Date as Index"
   ]
  },
  {
   "cell_type": "code",
   "execution_count": 47,
   "id": "45839435",
   "metadata": {},
   "outputs": [],
   "source": [
    "\n",
    "\n",
    "df1.set_index('Date',inplace=True)"
   ]
  },
  {
   "cell_type": "code",
   "execution_count": 48,
   "id": "97cf57ce",
   "metadata": {},
   "outputs": [
    {
     "data": {
      "text/html": [
       "<div>\n",
       "<style scoped>\n",
       "    .dataframe tbody tr th:only-of-type {\n",
       "        vertical-align: middle;\n",
       "    }\n",
       "\n",
       "    .dataframe tbody tr th {\n",
       "        vertical-align: top;\n",
       "    }\n",
       "\n",
       "    .dataframe thead th {\n",
       "        text-align: right;\n",
       "    }\n",
       "</style>\n",
       "<table border=\"1\" class=\"dataframe\">\n",
       "  <thead>\n",
       "    <tr style=\"text-align: right;\">\n",
       "      <th></th>\n",
       "      <th>Sales</th>\n",
       "      <th>WeekDays</th>\n",
       "      <th>Day</th>\n",
       "      <th>Month</th>\n",
       "      <th>Year</th>\n",
       "    </tr>\n",
       "    <tr>\n",
       "      <th>Date</th>\n",
       "      <th></th>\n",
       "      <th></th>\n",
       "      <th></th>\n",
       "      <th></th>\n",
       "      <th></th>\n",
       "    </tr>\n",
       "  </thead>\n",
       "  <tbody>\n",
       "    <tr>\n",
       "      <th>2023-01-01</th>\n",
       "      <td>202</td>\n",
       "      <td>Sunday</td>\n",
       "      <td>1</td>\n",
       "      <td>1</td>\n",
       "      <td>2023</td>\n",
       "    </tr>\n",
       "    <tr>\n",
       "      <th>2023-01-02</th>\n",
       "      <td>535</td>\n",
       "      <td>Monday</td>\n",
       "      <td>2</td>\n",
       "      <td>1</td>\n",
       "      <td>2023</td>\n",
       "    </tr>\n",
       "    <tr>\n",
       "      <th>2023-01-03</th>\n",
       "      <td>960</td>\n",
       "      <td>Tuesday</td>\n",
       "      <td>3</td>\n",
       "      <td>1</td>\n",
       "      <td>2023</td>\n",
       "    </tr>\n",
       "    <tr>\n",
       "      <th>2023-01-04</th>\n",
       "      <td>370</td>\n",
       "      <td>Wednesday</td>\n",
       "      <td>4</td>\n",
       "      <td>1</td>\n",
       "      <td>2023</td>\n",
       "    </tr>\n",
       "    <tr>\n",
       "      <th>2023-01-05</th>\n",
       "      <td>206</td>\n",
       "      <td>Thursday</td>\n",
       "      <td>5</td>\n",
       "      <td>1</td>\n",
       "      <td>2023</td>\n",
       "    </tr>\n",
       "  </tbody>\n",
       "</table>\n",
       "</div>"
      ],
      "text/plain": [
       "            Sales   WeekDays  Day  Month  Year\n",
       "Date                                          \n",
       "2023-01-01    202     Sunday    1      1  2023\n",
       "2023-01-02    535     Monday    2      1  2023\n",
       "2023-01-03    960    Tuesday    3      1  2023\n",
       "2023-01-04    370  Wednesday    4      1  2023\n",
       "2023-01-05    206   Thursday    5      1  2023"
      ]
     },
     "execution_count": 48,
     "metadata": {},
     "output_type": "execute_result"
    }
   ],
   "source": [
    "df1.head()"
   ]
  },
  {
   "cell_type": "markdown",
   "id": "111cf8e9",
   "metadata": {},
   "source": [
    "# 6.Resample to Weekly Sales Sum\n",
    "\n"
   ]
  },
  {
   "cell_type": "code",
   "execution_count": 49,
   "id": "ed2d6b81",
   "metadata": {},
   "outputs": [
    {
     "data": {
      "text/plain": [
       "Date\n",
       "2023-01-01     202\n",
       "2023-01-08    3162\n",
       "2023-01-15    2990\n",
       "2023-01-22    3804\n",
       "2023-01-29    4097\n",
       "2023-02-05     636\n",
       "Freq: W-SUN, Name: Sales, dtype: int32"
      ]
     },
     "execution_count": 49,
     "metadata": {},
     "output_type": "execute_result"
    }
   ],
   "source": [
    "weekly_salesdf1 = df1['Sales'].resample('W').sum()\n",
    "weekly_salesdf1"
   ]
  },
  {
   "cell_type": "code",
   "execution_count": 50,
   "id": "a80295a0",
   "metadata": {},
   "outputs": [
    {
     "name": "stdout",
     "output_type": "stream",
     "text": [
      "DatetimeIndex(['2023-01-01', '2023-01-08', '2023-01-15', '2023-01-22',\n",
      "               '2023-01-29', '2023-02-05'],\n",
      "              dtype='datetime64[ns]', name='Date', freq='W-SUN')\n",
      "\n",
      "\n",
      "[ 202 3162 2990 3804 4097  636]\n"
     ]
    }
   ],
   "source": [
    "print(weekly_salesdf1.index)\n",
    "print('\\n')\n",
    "print(weekly_salesdf1.values)"
   ]
  },
  {
   "cell_type": "code",
   "execution_count": 51,
   "id": "b01e2c7a",
   "metadata": {},
   "outputs": [
    {
     "data": {
      "image/png": "[encoded data removed]",
      "text/plain": [
       "<Figure size 1500x750 with 1 Axes>"
      ]
     },
     "metadata": {},
     "output_type": "display_data"
    }
   ],
   "source": [
    "plt.figure(figsize=(15,7.5))\n",
    "plt.plot(df1.index, df1['Sales'], label='Daily Sales', marker='o')\n",
    "plt.plot(weekly_salesdf1.index, weekly_salesdf1.values, label='Weekly Sales Sum', color='red',marker='+', markersize=10)\n",
    "plt.title('Sales Data - January 2023')\n",
    "plt.xlabel('Date')\n",
    "plt.ylabel('Sales')\n",
    "plt.legend()\n",
    "plt.grid(True)\n",
    "plt.show()\n"
   ]
  },
  {
   "cell_type": "code",
   "execution_count": 52,
   "id": "988e0199",
   "metadata": {},
   "outputs": [],
   "source": [
    "# Converting DataFrame into Array.\n",
    "\n",
    "data = {\n",
    "\n",
    "    'Name' : ['Aman','Aliyaan','Shayain'],\n",
    "    'Age' : [21,17,22],\n",
    "    'City' : ['ISB','ISB','LHR']\n",
    "}"
   ]
  },
  {
   "cell_type": "code",
   "execution_count": 55,
   "id": "6520c2ea",
   "metadata": {},
   "outputs": [
    {
     "name": "stdout",
     "output_type": "stream",
     "text": [
      "      Name  Age City\n",
      "0     Aman   21  ISB\n",
      "1  Aliyaan   17  ISB\n",
      "2  Shayain   22  LHR\n",
      "<class 'pandas.core.frame.DataFrame'>\n"
     ]
    }
   ],
   "source": [
    "df = pd.DataFrame(data)\n",
    "print(df)\n",
    "print(type(df))"
   ]
  },
  {
   "cell_type": "code",
   "execution_count": 56,
   "id": "d699abd0",
   "metadata": {},
   "outputs": [
    {
     "data": {
      "text/plain": [
       "array([['Aman', 21, 'ISB'],\n",
       "       ['Aliyaan', 17, 'ISB'],\n",
       "       ['Shayain', 22, 'LHR']], dtype=object)"
      ]
     },
     "execution_count": 56,
     "metadata": {},
     "output_type": "execute_result"
    }
   ],
   "source": [
    "np.array(df)"
   ]
  },
  {
   "cell_type": "code",
   "execution_count": 62,
   "id": "2caeea4b",
   "metadata": {},
   "outputs": [
    {
     "data": {
      "text/html": [
       "<div>\n",
       "<style scoped>\n",
       "    .dataframe tbody tr th:only-of-type {\n",
       "        vertical-align: middle;\n",
       "    }\n",
       "\n",
       "    .dataframe tbody tr th {\n",
       "        vertical-align: top;\n",
       "    }\n",
       "\n",
       "    .dataframe thead th {\n",
       "        text-align: right;\n",
       "    }\n",
       "</style>\n",
       "<table border=\"1\" class=\"dataframe\">\n",
       "  <thead>\n",
       "    <tr style=\"text-align: right;\">\n",
       "      <th></th>\n",
       "      <th>Name</th>\n",
       "      <th>Age</th>\n",
       "      <th>City</th>\n",
       "    </tr>\n",
       "  </thead>\n",
       "  <tbody>\n",
       "    <tr>\n",
       "      <th>0</th>\n",
       "      <td>Aman</td>\n",
       "      <td>21</td>\n",
       "      <td>ISB</td>\n",
       "    </tr>\n",
       "    <tr>\n",
       "      <th>1</th>\n",
       "      <td>Aliyaan</td>\n",
       "      <td>17</td>\n",
       "      <td>ISB</td>\n",
       "    </tr>\n",
       "    <tr>\n",
       "      <th>2</th>\n",
       "      <td>Farhan</td>\n",
       "      <td>22</td>\n",
       "      <td>ISB</td>\n",
       "    </tr>\n",
       "    <tr>\n",
       "      <th>3</th>\n",
       "      <td>Shayain</td>\n",
       "      <td>22</td>\n",
       "      <td>LHR</td>\n",
       "    </tr>\n",
       "    <tr>\n",
       "      <th>4</th>\n",
       "      <td>Adan</td>\n",
       "      <td>23</td>\n",
       "      <td>MUL</td>\n",
       "    </tr>\n",
       "  </tbody>\n",
       "</table>\n",
       "</div>"
      ],
      "text/plain": [
       "      Name  Age City\n",
       "0     Aman   21  ISB\n",
       "1  Aliyaan   17  ISB\n",
       "2   Farhan   22  ISB\n",
       "3  Shayain   22  LHR\n",
       "4     Adan   23  MUL"
      ]
     },
     "execution_count": 62,
     "metadata": {},
     "output_type": "execute_result"
    }
   ],
   "source": [
    "# Creating a dataDrame From a list of Dictionary.\n",
    "\n",
    "data = [\n",
    "    {'Name':'Aman','Age':21,'City':'ISB'},\n",
    "    {'Name':'Aliyaan','Age':17,'City':'ISB'},\n",
    "    {'Name':'Farhan','Age':22,'City':'ISB'},\n",
    "    {'Name':'Shayain','Age':22,'City':'LHR'},\n",
    "    {'Name':'Adan','Age':23,'City':'MUL'},\n",
    "\n",
    " ]\n",
    "\n",
    "df = pd.DataFrame(data)\n",
    "df\n"
   ]
  },
  {
   "cell_type": "code",
   "execution_count": null,
   "id": "71d287eb",
   "metadata": {},
   "outputs": [
    {
     "data": {
      "text/html": [
       "<div>\n",
       "<style scoped>\n",
       "    .dataframe tbody tr th:only-of-type {\n",
       "        vertical-align: middle;\n",
       "    }\n",
       "\n",
       "    .dataframe tbody tr th {\n",
       "        vertical-align: top;\n",
       "    }\n",
       "\n",
       "    .dataframe thead th {\n",
       "        text-align: right;\n",
       "    }\n",
       "</style>\n",
       "<table border=\"1\" class=\"dataframe\">\n",
       "  <thead>\n",
       "    <tr style=\"text-align: right;\">\n",
       "      <th></th>\n",
       "      <th>Name</th>\n",
       "      <th>Age</th>\n",
       "      <th>City</th>\n",
       "    </tr>\n",
       "  </thead>\n",
       "  <tbody>\n",
       "    <tr>\n",
       "      <th>0</th>\n",
       "      <td>Aman</td>\n",
       "      <td>21</td>\n",
       "      <td>ISB</td>\n",
       "    </tr>\n",
       "    <tr>\n",
       "      <th>1</th>\n",
       "      <td>Aliyaan</td>\n",
       "      <td>17</td>\n",
       "      <td>ISB</td>\n",
       "    </tr>\n",
       "  </tbody>\n",
       "</table>\n",
       "</div>"
      ],
      "text/plain": [
       "      Name  Age City\n",
       "0     Aman   21  ISB\n",
       "1  Aliyaan   17  ISB"
      ]
     },
     "execution_count": 66,
     "metadata": {},
     "output_type": "execute_result"
    }
   ],
   "source": [
    "## Accessing elements using loc,iloc,at and iat.\n",
    "# loc\n",
    "df.loc[0:1]\n"
   ]
  },
  {
   "cell_type": "code",
   "execution_count": null,
   "id": "c7a96ed6",
   "metadata": {},
   "outputs": [
    {
     "data": {
      "text/html": [
       "<div>\n",
       "<style scoped>\n",
       "    .dataframe tbody tr th:only-of-type {\n",
       "        vertical-align: middle;\n",
       "    }\n",
       "\n",
       "    .dataframe tbody tr th {\n",
       "        vertical-align: top;\n",
       "    }\n",
       "\n",
       "    .dataframe thead th {\n",
       "        text-align: right;\n",
       "    }\n",
       "</style>\n",
       "<table border=\"1\" class=\"dataframe\">\n",
       "  <thead>\n",
       "    <tr style=\"text-align: right;\">\n",
       "      <th></th>\n",
       "      <th>Name</th>\n",
       "      <th>Age</th>\n",
       "    </tr>\n",
       "  </thead>\n",
       "  <tbody>\n",
       "    <tr>\n",
       "      <th>0</th>\n",
       "      <td>Aman</td>\n",
       "      <td>21</td>\n",
       "    </tr>\n",
       "  </tbody>\n",
       "</table>\n",
       "</div>"
      ],
      "text/plain": [
       "   Name  Age\n",
       "0  Aman   21"
      ]
     },
     "execution_count": 68,
     "metadata": {},
     "output_type": "execute_result"
    }
   ],
   "source": [
    "# iloc\n",
    "df.iloc[0:1,0:1]"
   ]
  },
  {
   "cell_type": "code",
   "execution_count": 69,
   "id": "52c2d9b5",
   "metadata": {},
   "outputs": [
    {
     "data": {
      "text/html": [
       "<div>\n",
       "<style scoped>\n",
       "    .dataframe tbody tr th:only-of-type {\n",
       "        vertical-align: middle;\n",
       "    }\n",
       "\n",
       "    .dataframe tbody tr th {\n",
       "        vertical-align: top;\n",
       "    }\n",
       "\n",
       "    .dataframe thead th {\n",
       "        text-align: right;\n",
       "    }\n",
       "</style>\n",
       "<table border=\"1\" class=\"dataframe\">\n",
       "  <thead>\n",
       "    <tr style=\"text-align: right;\">\n",
       "      <th></th>\n",
       "      <th>Name</th>\n",
       "      <th>Age</th>\n",
       "    </tr>\n",
       "  </thead>\n",
       "  <tbody>\n",
       "    <tr>\n",
       "      <th>0</th>\n",
       "      <td>Aman</td>\n",
       "      <td>21</td>\n",
       "    </tr>\n",
       "  </tbody>\n",
       "</table>\n",
       "</div>"
      ],
      "text/plain": [
       "   Name  Age\n",
       "0  Aman   21"
      ]
     },
     "execution_count": 69,
     "metadata": {},
     "output_type": "execute_result"
    }
   ],
   "source": [
    "df.iloc[0:1,0:2]"
   ]
  },
  {
   "cell_type": "code",
   "execution_count": 70,
   "id": "a6268cca",
   "metadata": {},
   "outputs": [
    {
     "data": {
      "text/html": [
       "<div>\n",
       "<style scoped>\n",
       "    .dataframe tbody tr th:only-of-type {\n",
       "        vertical-align: middle;\n",
       "    }\n",
       "\n",
       "    .dataframe tbody tr th {\n",
       "        vertical-align: top;\n",
       "    }\n",
       "\n",
       "    .dataframe thead th {\n",
       "        text-align: right;\n",
       "    }\n",
       "</style>\n",
       "<table border=\"1\" class=\"dataframe\">\n",
       "  <thead>\n",
       "    <tr style=\"text-align: right;\">\n",
       "      <th></th>\n",
       "      <th>Name</th>\n",
       "      <th>Age</th>\n",
       "      <th>City</th>\n",
       "    </tr>\n",
       "  </thead>\n",
       "  <tbody>\n",
       "    <tr>\n",
       "      <th>0</th>\n",
       "      <td>Aman</td>\n",
       "      <td>21</td>\n",
       "      <td>ISB</td>\n",
       "    </tr>\n",
       "  </tbody>\n",
       "</table>\n",
       "</div>"
      ],
      "text/plain": [
       "   Name  Age City\n",
       "0  Aman   21  ISB"
      ]
     },
     "execution_count": 70,
     "metadata": {},
     "output_type": "execute_result"
    }
   ],
   "source": [
    "df.iloc[0:1,0:3]"
   ]
  },
  {
   "cell_type": "code",
   "execution_count": 77,
   "id": "7ad16f6c",
   "metadata": {},
   "outputs": [
    {
     "data": {
      "text/html": [
       "<div>\n",
       "<style scoped>\n",
       "    .dataframe tbody tr th:only-of-type {\n",
       "        vertical-align: middle;\n",
       "    }\n",
       "\n",
       "    .dataframe tbody tr th {\n",
       "        vertical-align: top;\n",
       "    }\n",
       "\n",
       "    .dataframe thead th {\n",
       "        text-align: right;\n",
       "    }\n",
       "</style>\n",
       "<table border=\"1\" class=\"dataframe\">\n",
       "  <thead>\n",
       "    <tr style=\"text-align: right;\">\n",
       "      <th></th>\n",
       "      <th>Name</th>\n",
       "      <th>City</th>\n",
       "      <th>Age</th>\n",
       "    </tr>\n",
       "  </thead>\n",
       "  <tbody>\n",
       "    <tr>\n",
       "      <th>0</th>\n",
       "      <td>Aman</td>\n",
       "      <td>ISB</td>\n",
       "      <td>21</td>\n",
       "    </tr>\n",
       "  </tbody>\n",
       "</table>\n",
       "</div>"
      ],
      "text/plain": [
       "   Name City  Age\n",
       "0  Aman  ISB   21"
      ]
     },
     "execution_count": 77,
     "metadata": {},
     "output_type": "execute_result"
    }
   ],
   "source": [
    "df.iloc[0:1][['Name','City','Age']]"
   ]
  },
  {
   "cell_type": "code",
   "execution_count": 78,
   "id": "4c117cb0",
   "metadata": {},
   "outputs": [
    {
     "data": {
      "text/html": [
       "<div>\n",
       "<style scoped>\n",
       "    .dataframe tbody tr th:only-of-type {\n",
       "        vertical-align: middle;\n",
       "    }\n",
       "\n",
       "    .dataframe tbody tr th {\n",
       "        vertical-align: top;\n",
       "    }\n",
       "\n",
       "    .dataframe thead th {\n",
       "        text-align: right;\n",
       "    }\n",
       "</style>\n",
       "<table border=\"1\" class=\"dataframe\">\n",
       "  <thead>\n",
       "    <tr style=\"text-align: right;\">\n",
       "      <th></th>\n",
       "      <th>Name</th>\n",
       "      <th>Age</th>\n",
       "      <th>City</th>\n",
       "    </tr>\n",
       "  </thead>\n",
       "  <tbody>\n",
       "    <tr>\n",
       "      <th>0</th>\n",
       "      <td>Aman</td>\n",
       "      <td>21</td>\n",
       "      <td>ISB</td>\n",
       "    </tr>\n",
       "    <tr>\n",
       "      <th>1</th>\n",
       "      <td>Aliyaan</td>\n",
       "      <td>17</td>\n",
       "      <td>ISB</td>\n",
       "    </tr>\n",
       "    <tr>\n",
       "      <th>2</th>\n",
       "      <td>Farhan</td>\n",
       "      <td>22</td>\n",
       "      <td>ISB</td>\n",
       "    </tr>\n",
       "    <tr>\n",
       "      <th>3</th>\n",
       "      <td>Shayain</td>\n",
       "      <td>22</td>\n",
       "      <td>LHR</td>\n",
       "    </tr>\n",
       "    <tr>\n",
       "      <th>4</th>\n",
       "      <td>Adan</td>\n",
       "      <td>23</td>\n",
       "      <td>MUL</td>\n",
       "    </tr>\n",
       "  </tbody>\n",
       "</table>\n",
       "</div>"
      ],
      "text/plain": [
       "      Name  Age City\n",
       "0     Aman   21  ISB\n",
       "1  Aliyaan   17  ISB\n",
       "2   Farhan   22  ISB\n",
       "3  Shayain   22  LHR\n",
       "4     Adan   23  MUL"
      ]
     },
     "execution_count": 78,
     "metadata": {},
     "output_type": "execute_result"
    }
   ],
   "source": [
    "df"
   ]
  },
  {
   "cell_type": "code",
   "execution_count": 97,
   "id": "da00e85b",
   "metadata": {},
   "outputs": [
    {
     "data": {
      "text/plain": [
       "'Aman'"
      ]
     },
     "execution_count": 97,
     "metadata": {},
     "output_type": "execute_result"
    }
   ],
   "source": [
    "df.at[0,'Name']"
   ]
  },
  {
   "cell_type": "code",
   "execution_count": null,
   "id": "f8ccee30",
   "metadata": {},
   "outputs": [
    {
     "ename": "TypeError",
     "evalue": "unhashable type: 'list'",
     "output_type": "error",
     "traceback": [
      "\u001b[31m---------------------------------------------------------------------------\u001b[39m",
      "\u001b[31mTypeError\u001b[39m                                 Traceback (most recent call last)",
      "\u001b[32m~\\AppData\\Local\\Temp\\ipykernel_6868\\2577976297.py\u001b[39m in \u001b[36m?\u001b[39m\u001b[34m()\u001b[39m\n\u001b[32m      1\u001b[39m \u001b[38;5;66;03m# at\u001b[39;00m\n\u001b[32m      2\u001b[39m \n\u001b[32m----> \u001b[39m\u001b[32m3\u001b[39m df.at[\u001b[32m0\u001b[39m,[\u001b[33m'Name'\u001b[39m,\u001b[33m'Age'\u001b[39m,\u001b[33m'City'\u001b[39m]]\n\u001b[32m      4\u001b[39m \u001b[38;5;66;03m# The error is because of Multiple Columns.\u001b[39;00m\n\u001b[32m      5\u001b[39m \u001b[38;5;66;03m# Because.......\u001b[39;00m\n",
      "\u001b[32mf:\\Data Analysis with Python\\Numpy\\vnv\\Lib\\site-packages\\pandas\\core\\indexing.py\u001b[39m in \u001b[36m?\u001b[39m\u001b[34m(self, key)\u001b[39m\n\u001b[32m   2571\u001b[39m             \u001b[38;5;28;01mif\u001b[39;00m \u001b[38;5;28;01mnot\u001b[39;00m isinstance(key, tuple) \u001b[38;5;28;01mor\u001b[39;00m \u001b[38;5;28;01mnot\u001b[39;00m all(is_scalar(x) \u001b[38;5;28;01mfor\u001b[39;00m x \u001b[38;5;28;01min\u001b[39;00m key):\n\u001b[32m   2572\u001b[39m                 \u001b[38;5;28;01mraise\u001b[39;00m ValueError(\u001b[33m\"Invalid call for scalar access (getting)!\"\u001b[39m)\n\u001b[32m   2573\u001b[39m             \u001b[38;5;28;01mreturn\u001b[39;00m self.obj.loc[key]\n\u001b[32m   2574\u001b[39m \n\u001b[32m-> \u001b[39m\u001b[32m2575\u001b[39m         \u001b[38;5;28;01mreturn\u001b[39;00m super().__getitem__(key)\n",
      "\u001b[32mf:\\Data Analysis with Python\\Numpy\\vnv\\Lib\\site-packages\\pandas\\core\\indexing.py\u001b[39m in \u001b[36m?\u001b[39m\u001b[34m(self, key)\u001b[39m\n\u001b[32m   2523\u001b[39m             \u001b[38;5;28;01melse\u001b[39;00m:\n\u001b[32m   2524\u001b[39m                 \u001b[38;5;28;01mraise\u001b[39;00m ValueError(\u001b[33m\"Invalid call for scalar access (getting)!\"\u001b[39m)\n\u001b[32m   2525\u001b[39m \n\u001b[32m   2526\u001b[39m         key = self._convert_key(key)\n\u001b[32m-> \u001b[39m\u001b[32m2527\u001b[39m         \u001b[38;5;28;01mreturn\u001b[39;00m self.obj._get_value(*key, takeable=self._takeable)\n",
      "\u001b[32mf:\\Data Analysis with Python\\Numpy\\vnv\\Lib\\site-packages\\pandas\\core\\frame.py\u001b[39m in \u001b[36m?\u001b[39m\u001b[34m(self, index, col, takeable)\u001b[39m\n\u001b[32m   4215\u001b[39m         \u001b[38;5;28;01mif\u001b[39;00m takeable:\n\u001b[32m   4216\u001b[39m             series = self._ixs(col, axis=\u001b[32m1\u001b[39m)\n\u001b[32m   4217\u001b[39m             \u001b[38;5;28;01mreturn\u001b[39;00m series._values[index]\n\u001b[32m   4218\u001b[39m \n\u001b[32m-> \u001b[39m\u001b[32m4219\u001b[39m         series = self._get_item_cache(col)\n\u001b[32m   4220\u001b[39m         engine = self.index._engine\n\u001b[32m   4221\u001b[39m \n\u001b[32m   4222\u001b[39m         \u001b[38;5;28;01mif\u001b[39;00m \u001b[38;5;28;01mnot\u001b[39;00m isinstance(self.index, MultiIndex):\n",
      "\u001b[32mf:\\Data Analysis with Python\\Numpy\\vnv\\Lib\\site-packages\\pandas\\core\\frame.py\u001b[39m in \u001b[36m?\u001b[39m\u001b[34m(self, item)\u001b[39m\n\u001b[32m   4634\u001b[39m             loc = self.columns.get_loc(item)\n\u001b[32m   4635\u001b[39m             \u001b[38;5;28;01mreturn\u001b[39;00m self._ixs(loc, axis=\u001b[32m1\u001b[39m)\n\u001b[32m   4636\u001b[39m \n\u001b[32m   4637\u001b[39m         cache = self._item_cache\n\u001b[32m-> \u001b[39m\u001b[32m4638\u001b[39m         res = cache.get(item)\n\u001b[32m   4639\u001b[39m         \u001b[38;5;28;01mif\u001b[39;00m res \u001b[38;5;28;01mis\u001b[39;00m \u001b[38;5;28;01mNone\u001b[39;00m:\n\u001b[32m   4640\u001b[39m             \u001b[38;5;66;03m# All places that call _get_item_cache have unique columns,\u001b[39;00m\n\u001b[32m   4641\u001b[39m             \u001b[38;5;66;03m#  pending resolution of GH#33047\u001b[39;00m\n",
      "\u001b[31mTypeError\u001b[39m: unhashable type: 'list'"
     ]
    }
   ],
   "source": [
    "# at\n",
    "\n",
    "df.at[0,['Name','Age','City']]\n",
    "# The error is because of list of column Name.\n",
    "# Because.......\n",
    "# df.at is used to access or modify a single value at a time in a pandas DataFrame,\n",
    "# using row label and column label."
   ]
  },
  {
   "cell_type": "code",
   "execution_count": 85,
   "id": "3cd40448",
   "metadata": {},
   "outputs": [
    {
     "data": {
      "text/html": [
       "<div>\n",
       "<style scoped>\n",
       "    .dataframe tbody tr th:only-of-type {\n",
       "        vertical-align: middle;\n",
       "    }\n",
       "\n",
       "    .dataframe tbody tr th {\n",
       "        vertical-align: top;\n",
       "    }\n",
       "\n",
       "    .dataframe thead th {\n",
       "        text-align: right;\n",
       "    }\n",
       "</style>\n",
       "<table border=\"1\" class=\"dataframe\">\n",
       "  <thead>\n",
       "    <tr style=\"text-align: right;\">\n",
       "      <th></th>\n",
       "      <th>Name</th>\n",
       "      <th>Age</th>\n",
       "      <th>City</th>\n",
       "    </tr>\n",
       "  </thead>\n",
       "  <tbody>\n",
       "    <tr>\n",
       "      <th>0</th>\n",
       "      <td>Aman</td>\n",
       "      <td>21</td>\n",
       "      <td>ISB</td>\n",
       "    </tr>\n",
       "    <tr>\n",
       "      <th>1</th>\n",
       "      <td>Aliyaan</td>\n",
       "      <td>17</td>\n",
       "      <td>ISB</td>\n",
       "    </tr>\n",
       "    <tr>\n",
       "      <th>2</th>\n",
       "      <td>Farhan</td>\n",
       "      <td>22</td>\n",
       "      <td>ISB</td>\n",
       "    </tr>\n",
       "    <tr>\n",
       "      <th>3</th>\n",
       "      <td>Shayain</td>\n",
       "      <td>22</td>\n",
       "      <td>LHR</td>\n",
       "    </tr>\n",
       "    <tr>\n",
       "      <th>4</th>\n",
       "      <td>Adan</td>\n",
       "      <td>23</td>\n",
       "      <td>MUL</td>\n",
       "    </tr>\n",
       "  </tbody>\n",
       "</table>\n",
       "</div>"
      ],
      "text/plain": [
       "      Name  Age City\n",
       "0     Aman   21  ISB\n",
       "1  Aliyaan   17  ISB\n",
       "2   Farhan   22  ISB\n",
       "3  Shayain   22  LHR\n",
       "4     Adan   23  MUL"
      ]
     },
     "execution_count": 85,
     "metadata": {},
     "output_type": "execute_result"
    }
   ],
   "source": [
    "df"
   ]
  },
  {
   "cell_type": "code",
   "execution_count": 87,
   "id": "06f132ba",
   "metadata": {},
   "outputs": [],
   "source": [
    "df.at[4,'Age'] = 24 "
   ]
  },
  {
   "cell_type": "code",
   "execution_count": 88,
   "id": "ddb298a9",
   "metadata": {},
   "outputs": [
    {
     "data": {
      "text/html": [
       "<div>\n",
       "<style scoped>\n",
       "    .dataframe tbody tr th:only-of-type {\n",
       "        vertical-align: middle;\n",
       "    }\n",
       "\n",
       "    .dataframe tbody tr th {\n",
       "        vertical-align: top;\n",
       "    }\n",
       "\n",
       "    .dataframe thead th {\n",
       "        text-align: right;\n",
       "    }\n",
       "</style>\n",
       "<table border=\"1\" class=\"dataframe\">\n",
       "  <thead>\n",
       "    <tr style=\"text-align: right;\">\n",
       "      <th></th>\n",
       "      <th>Name</th>\n",
       "      <th>Age</th>\n",
       "      <th>City</th>\n",
       "    </tr>\n",
       "  </thead>\n",
       "  <tbody>\n",
       "    <tr>\n",
       "      <th>0</th>\n",
       "      <td>Aman</td>\n",
       "      <td>21</td>\n",
       "      <td>ISB</td>\n",
       "    </tr>\n",
       "    <tr>\n",
       "      <th>1</th>\n",
       "      <td>Aliyaan</td>\n",
       "      <td>17</td>\n",
       "      <td>ISB</td>\n",
       "    </tr>\n",
       "    <tr>\n",
       "      <th>2</th>\n",
       "      <td>Farhan</td>\n",
       "      <td>22</td>\n",
       "      <td>ISB</td>\n",
       "    </tr>\n",
       "    <tr>\n",
       "      <th>3</th>\n",
       "      <td>Shayain</td>\n",
       "      <td>22</td>\n",
       "      <td>LHR</td>\n",
       "    </tr>\n",
       "    <tr>\n",
       "      <th>4</th>\n",
       "      <td>Adan</td>\n",
       "      <td>24</td>\n",
       "      <td>MUL</td>\n",
       "    </tr>\n",
       "  </tbody>\n",
       "</table>\n",
       "</div>"
      ],
      "text/plain": [
       "      Name  Age City\n",
       "0     Aman   21  ISB\n",
       "1  Aliyaan   17  ISB\n",
       "2   Farhan   22  ISB\n",
       "3  Shayain   22  LHR\n",
       "4     Adan   24  MUL"
      ]
     },
     "execution_count": 88,
     "metadata": {},
     "output_type": "execute_result"
    }
   ],
   "source": [
    "df"
   ]
  },
  {
   "cell_type": "code",
   "execution_count": 96,
   "id": "fb210843",
   "metadata": {},
   "outputs": [
    {
     "data": {
      "text/plain": [
       "'ISB'"
      ]
     },
     "execution_count": 96,
     "metadata": {},
     "output_type": "execute_result"
    }
   ],
   "source": [
    "# iat\n",
    "\n",
    "df.iat[0,2]"
   ]
  },
  {
   "cell_type": "code",
   "execution_count": 98,
   "id": "e577ca6d",
   "metadata": {},
   "outputs": [
    {
     "data": {
      "text/html": [
       "<div>\n",
       "<style scoped>\n",
       "    .dataframe tbody tr th:only-of-type {\n",
       "        vertical-align: middle;\n",
       "    }\n",
       "\n",
       "    .dataframe tbody tr th {\n",
       "        vertical-align: top;\n",
       "    }\n",
       "\n",
       "    .dataframe thead th {\n",
       "        text-align: right;\n",
       "    }\n",
       "</style>\n",
       "<table border=\"1\" class=\"dataframe\">\n",
       "  <thead>\n",
       "    <tr style=\"text-align: right;\">\n",
       "      <th></th>\n",
       "      <th>Name</th>\n",
       "      <th>Age</th>\n",
       "      <th>City</th>\n",
       "    </tr>\n",
       "  </thead>\n",
       "  <tbody>\n",
       "    <tr>\n",
       "      <th>0</th>\n",
       "      <td>Aman</td>\n",
       "      <td>21</td>\n",
       "      <td>ISB</td>\n",
       "    </tr>\n",
       "    <tr>\n",
       "      <th>1</th>\n",
       "      <td>Aliyaan</td>\n",
       "      <td>17</td>\n",
       "      <td>ISB</td>\n",
       "    </tr>\n",
       "    <tr>\n",
       "      <th>2</th>\n",
       "      <td>Farhan</td>\n",
       "      <td>22</td>\n",
       "      <td>ISB</td>\n",
       "    </tr>\n",
       "    <tr>\n",
       "      <th>3</th>\n",
       "      <td>Shayain</td>\n",
       "      <td>22</td>\n",
       "      <td>LHR</td>\n",
       "    </tr>\n",
       "    <tr>\n",
       "      <th>4</th>\n",
       "      <td>Adan</td>\n",
       "      <td>24</td>\n",
       "      <td>MUL</td>\n",
       "    </tr>\n",
       "  </tbody>\n",
       "</table>\n",
       "</div>"
      ],
      "text/plain": [
       "      Name  Age City\n",
       "0     Aman   21  ISB\n",
       "1  Aliyaan   17  ISB\n",
       "2   Farhan   22  ISB\n",
       "3  Shayain   22  LHR\n",
       "4     Adan   24  MUL"
      ]
     },
     "execution_count": 98,
     "metadata": {},
     "output_type": "execute_result"
    }
   ],
   "source": [
    "df"
   ]
  },
  {
   "cell_type": "code",
   "execution_count": 100,
   "id": "4837c859",
   "metadata": {},
   "outputs": [],
   "source": [
    "df['Salary'] = [50000,60000,70000,80000,90000]"
   ]
  },
  {
   "cell_type": "code",
   "execution_count": 101,
   "id": "f28ee3c3",
   "metadata": {},
   "outputs": [
    {
     "data": {
      "text/html": [
       "<div>\n",
       "<style scoped>\n",
       "    .dataframe tbody tr th:only-of-type {\n",
       "        vertical-align: middle;\n",
       "    }\n",
       "\n",
       "    .dataframe tbody tr th {\n",
       "        vertical-align: top;\n",
       "    }\n",
       "\n",
       "    .dataframe thead th {\n",
       "        text-align: right;\n",
       "    }\n",
       "</style>\n",
       "<table border=\"1\" class=\"dataframe\">\n",
       "  <thead>\n",
       "    <tr style=\"text-align: right;\">\n",
       "      <th></th>\n",
       "      <th>Name</th>\n",
       "      <th>Age</th>\n",
       "      <th>City</th>\n",
       "      <th>Salary</th>\n",
       "    </tr>\n",
       "  </thead>\n",
       "  <tbody>\n",
       "    <tr>\n",
       "      <th>0</th>\n",
       "      <td>Aman</td>\n",
       "      <td>21</td>\n",
       "      <td>ISB</td>\n",
       "      <td>50000</td>\n",
       "    </tr>\n",
       "    <tr>\n",
       "      <th>1</th>\n",
       "      <td>Aliyaan</td>\n",
       "      <td>17</td>\n",
       "      <td>ISB</td>\n",
       "      <td>60000</td>\n",
       "    </tr>\n",
       "    <tr>\n",
       "      <th>2</th>\n",
       "      <td>Farhan</td>\n",
       "      <td>22</td>\n",
       "      <td>ISB</td>\n",
       "      <td>70000</td>\n",
       "    </tr>\n",
       "    <tr>\n",
       "      <th>3</th>\n",
       "      <td>Shayain</td>\n",
       "      <td>22</td>\n",
       "      <td>LHR</td>\n",
       "      <td>80000</td>\n",
       "    </tr>\n",
       "    <tr>\n",
       "      <th>4</th>\n",
       "      <td>Adan</td>\n",
       "      <td>24</td>\n",
       "      <td>MUL</td>\n",
       "      <td>90000</td>\n",
       "    </tr>\n",
       "  </tbody>\n",
       "</table>\n",
       "</div>"
      ],
      "text/plain": [
       "      Name  Age City  Salary\n",
       "0     Aman   21  ISB   50000\n",
       "1  Aliyaan   17  ISB   60000\n",
       "2   Farhan   22  ISB   70000\n",
       "3  Shayain   22  LHR   80000\n",
       "4     Adan   24  MUL   90000"
      ]
     },
     "execution_count": 101,
     "metadata": {},
     "output_type": "execute_result"
    }
   ],
   "source": [
    "df"
   ]
  },
  {
   "cell_type": "code",
   "execution_count": 106,
   "id": "9c0d53b1",
   "metadata": {},
   "outputs": [],
   "source": [
    "df.drop(2,inplace=True)"
   ]
  },
  {
   "cell_type": "code",
   "execution_count": 107,
   "id": "86c3d638",
   "metadata": {},
   "outputs": [
    {
     "data": {
      "text/html": [
       "<div>\n",
       "<style scoped>\n",
       "    .dataframe tbody tr th:only-of-type {\n",
       "        vertical-align: middle;\n",
       "    }\n",
       "\n",
       "    .dataframe tbody tr th {\n",
       "        vertical-align: top;\n",
       "    }\n",
       "\n",
       "    .dataframe thead th {\n",
       "        text-align: right;\n",
       "    }\n",
       "</style>\n",
       "<table border=\"1\" class=\"dataframe\">\n",
       "  <thead>\n",
       "    <tr style=\"text-align: right;\">\n",
       "      <th></th>\n",
       "      <th>Name</th>\n",
       "      <th>Age</th>\n",
       "      <th>City</th>\n",
       "      <th>Salary</th>\n",
       "    </tr>\n",
       "  </thead>\n",
       "  <tbody>\n",
       "    <tr>\n",
       "      <th>0</th>\n",
       "      <td>Aman</td>\n",
       "      <td>21</td>\n",
       "      <td>ISB</td>\n",
       "      <td>50000</td>\n",
       "    </tr>\n",
       "    <tr>\n",
       "      <th>1</th>\n",
       "      <td>Aliyaan</td>\n",
       "      <td>17</td>\n",
       "      <td>ISB</td>\n",
       "      <td>60000</td>\n",
       "    </tr>\n",
       "    <tr>\n",
       "      <th>3</th>\n",
       "      <td>Shayain</td>\n",
       "      <td>22</td>\n",
       "      <td>LHR</td>\n",
       "      <td>80000</td>\n",
       "    </tr>\n",
       "    <tr>\n",
       "      <th>4</th>\n",
       "      <td>Adan</td>\n",
       "      <td>24</td>\n",
       "      <td>MUL</td>\n",
       "      <td>90000</td>\n",
       "    </tr>\n",
       "  </tbody>\n",
       "</table>\n",
       "</div>"
      ],
      "text/plain": [
       "      Name  Age City  Salary\n",
       "0     Aman   21  ISB   50000\n",
       "1  Aliyaan   17  ISB   60000\n",
       "3  Shayain   22  LHR   80000\n",
       "4     Adan   24  MUL   90000"
      ]
     },
     "execution_count": 107,
     "metadata": {},
     "output_type": "execute_result"
    }
   ],
   "source": [
    "df"
   ]
  },
  {
   "cell_type": "code",
   "execution_count": null,
   "id": "1d21c799",
   "metadata": {},
   "outputs": [],
   "source": []
  }
 ],
 "metadata": {
  "kernelspec": {
   "display_name": "Python 3",
   "language": "python",
   "name": "python3"
  },
  "language_info": {
   "codemirror_mode": {
    "name": "ipython",
    "version": 3
   },
   "file_extension": ".py",
   "mimetype": "text/x-python",
   "name": "python",
   "nbconvert_exporter": "python",
   "pygments_lexer": "ipython3",
   "version": "3.13.3"
  }
 },
 "nbformat": 4,
 "nbformat_minor": 5
}
